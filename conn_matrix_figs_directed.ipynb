{
 "cells": [
  {
   "cell_type": "code",
   "execution_count": 16,
   "id": "be67894b-a5e5-4aa2-ae89-b02bcafaa332",
   "metadata": {},
   "outputs": [],
   "source": [
    "import glob\n",
    "import xarray as xr\n",
    "import pandas as pd\n",
    "import seaborn as sns\n",
    "import matplotlib.pyplot as plt"
   ]
  },
  {
   "cell_type": "code",
   "execution_count": 1,
   "id": "0e065124-4e65-491a-93be-e56769cc55f0",
   "metadata": {},
   "outputs": [],
   "source": [
    "methods = ['psgp','gpdc','ddtf']"
   ]
  },
  {
   "cell_type": "code",
   "execution_count": null,
   "id": "799279d7-d63f-4765-8f84-f19564362466",
   "metadata": {},
   "outputs": [],
   "source": [
    "fig, axes = plt.subplots(2,3,figsize=(15,3))\n",
    "for method, ax in zip(methods, axes[0].ravel()):\n",
    "    xarrays = glob.glob(f'/work/srishyla/{method}/*_{method}_EC.nc')\n",
    "                \n",
    "    xarrays_combined = []\n",
    "    subjects = []\n",
    "    for array in xarrays:\n",
    "        subject = array.split('/')[4].split('_')[0]\n",
    "        subjects.append(subject)\n",
    "        xarrays_combined.append(xr.open_dataarray(array))\n",
    "    \n",
    "    xarrays_combined = xr.concat(xarrays_combined, pd.Index(subjects, name=\"subjects\"))\n",
    "\n",
    "    matrix_df = xarrays_combined.mean(dim=[\"bootstrap_samples\",\"subjects\",\"frequencies\"]).values + xarrays_combined.mean(dim=[\"bootstrap_samples\",\"subjects\",\"frequencies\"]).values.T\n",
    "    sns.heatmap(matrix_df,ax = ax)\n",
    "    ax.set_title(method)\n",
    "\n",
    "for method, ax in zip(methods, axes[1].ravel()):\n",
    "    xarrays = glob.glob(f'/work/srishyla/{method}/*_{method}_EO.nc')\n",
    "                \n",
    "    xarrays_combined = []\n",
    "    subjects = []\n",
    "    for array in xarrays:\n",
    "        subject = array.split('/')[4].split('_')[0]\n",
    "        subjects.append(subject)\n",
    "        xarrays_combined.append(xr.open_dataarray(array))\n",
    "    \n",
    "    xarrays_combined = xr.concat(xarrays_combined, pd.Index(subjects, name=\"subjects\"))\n",
    "\n",
    "    matrix_df = xarrays_combined.mean(dim=[\"bootstrap_samples\",\"subjects\",\"frequencies\"]).values + xarrays_combined.mean(dim=[\"bootstrap_samples\",\"subjects\",\"frequencies\"]).values.T\n",
    "    sns.heatmap(matrix_df,ax = ax)\n",
    "\n",
    "fig.save('con_matrix_directed.png',dpi=300)"
   ]
  },
  {
   "cell_type": "code",
   "execution_count": null,
   "id": "6d1685f4-2a40-4e05-91f7-87af641c197d",
   "metadata": {},
   "outputs": [],
   "source": []
  },
  {
   "cell_type": "code",
   "execution_count": null,
   "id": "d27c9a2e-a1e1-4c53-aab6-d054e44ff5e3",
   "metadata": {},
   "outputs": [],
   "source": []
  }
 ],
 "metadata": {
  "kernelspec": {
   "display_name": "Python 3 (ipykernel)",
   "language": "python",
   "name": "python3"
  },
  "language_info": {
   "codemirror_mode": {
    "name": "ipython",
    "version": 3
   },
   "file_extension": ".py",
   "mimetype": "text/x-python",
   "name": "python",
   "nbconvert_exporter": "python",
   "pygments_lexer": "ipython3",
   "version": "3.11.5"
  }
 },
 "nbformat": 4,
 "nbformat_minor": 5
}
