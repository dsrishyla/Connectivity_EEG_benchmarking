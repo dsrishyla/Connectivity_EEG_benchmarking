{
 "cells": [
  {
   "cell_type": "code",
   "execution_count": 4,
   "id": "9b08c0dc-eb15-4b1d-b3b0-c87a14d4576c",
   "metadata": {},
   "outputs": [],
   "source": [
    "import pandas as pd\n",
    "import glob\n",
    "import xarray as xr\n",
    "import numpy as np\n",
    "from statsmodels.stats.anova import AnovaRM \n",
    "from scipy import stats\n",
    "from matplotlib import pyplot as plt\n",
    "import pingouin as pg\n",
    "import numpy as np"
   ]
  },
  {
   "cell_type": "code",
   "execution_count": null,
   "id": "ad3ef248-ebf4-41e5-90c7-df529bf4ab10",
   "metadata": {},
   "outputs": [],
   "source": [
    "#STD/MEAN PER BOOTSTRAP SAMPLE"
   ]
  },
  {
   "cell_type": "code",
   "execution_count": null,
   "id": "a1b31e0b-adcb-48ef-add3-5e8e51eda36e",
   "metadata": {},
   "outputs": [],
   "source": []
  },
  {
   "cell_type": "code",
   "execution_count": 2,
   "id": "9dfd94cd-2605-4bae-b4a4-706408750e6f",
   "metadata": {},
   "outputs": [],
   "source": [
    "vn = ['fusiform-rh', 'fusiform-lh', 'lingual-rh', 'lingual-lh', 'cuneus-rh', 'cuneus-lh', 'lateraloccipital-rh', 'lateraloccipital-lh']\n",
    "methods = ['coh', 'ciplv','imcoh','wpli2']\n",
    "conditions = ['EO','EC']\n",
    "xarrays = glob.glob(f'/Users/lina_01/Desktop/mpi_lemon/undirected_outputs/coh/*_coh_EC.nc')\n",
    "subjects = []\n",
    "for array in xarrays:\n",
    "    subject = array.split('/')[7].split('_')[0]\n",
    "    subjects.append(subject)"
   ]
  },
  {
   "cell_type": "code",
   "execution_count": null,
   "id": "214c7aaf-873d-46e8-bf26-ed0cb34c0ad3",
   "metadata": {},
   "outputs": [],
   "source": []
  },
  {
   "cell_type": "code",
   "execution_count": null,
   "id": "66bf568c-aa95-470e-9bb5-30517ff8809d",
   "metadata": {},
   "outputs": [],
   "source": []
  },
  {
   "cell_type": "code",
   "execution_count": null,
   "id": "cb58c755-fe3a-41bb-84cd-cfb570f5c6c7",
   "metadata": {},
   "outputs": [],
   "source": []
  },
  {
   "cell_type": "code",
   "execution_count": null,
   "id": "9cd607c4-c575-4d30-8f10-5015d0905530",
   "metadata": {},
   "outputs": [],
   "source": []
  },
  {
   "cell_type": "code",
   "execution_count": null,
   "id": "1d732971-0343-4fb2-a746-abe76ba03204",
   "metadata": {},
   "outputs": [],
   "source": []
  },
  {
   "cell_type": "code",
   "execution_count": null,
   "id": "0c2374cc-074a-475b-b612-3930d3bb20b6",
   "metadata": {},
   "outputs": [],
   "source": []
  },
  {
   "cell_type": "code",
   "execution_count": null,
   "id": "9da0eea7-3e0d-4b8e-992f-d6aa31fc01ec",
   "metadata": {},
   "outputs": [],
   "source": []
  },
  {
   "cell_type": "code",
   "execution_count": null,
   "id": "7375ee59-a7ae-47de-9f0b-db0302350f66",
   "metadata": {},
   "outputs": [],
   "source": [
    "#CALCULATE INTER-SUBJECT VARIANCE"
   ]
  },
  {
   "cell_type": "code",
   "execution_count": 3,
   "id": "04558a58-e083-41cb-9111-c26ec3952d66",
   "metadata": {},
   "outputs": [],
   "source": [
    "inter_subject_variance = {}\n",
    "for condition in conditions:\n",
    "    condition_dict = {}\n",
    "    for method in methods:\n",
    "        mean_per_subject = []\n",
    "        for subject in subjects:\n",
    "            xarray = xr.open_dataarray(f'/Users/lina_01/Desktop/mpi_lemon/undirected_outputs/{method}/{subject}_array_{method}_{condition}.nc')\n",
    "            xarray_sel = xarray.sel(region1=vn, region2=vn)\n",
    "            mean = float(xarray_sel.mean())\n",
    "            mean_per_subject.append(mean)\n",
    "            \n",
    "        variance = np.std(mean_per_subject)**2\n",
    "        condition_dict[method] = variance\n",
    "    inter_subject_variance[condition] = condition_dict"
   ]
  },
  {
   "cell_type": "code",
   "execution_count": null,
   "id": "4b760992-7eb8-4ce2-81a3-2d13e999974f",
   "metadata": {},
   "outputs": [],
   "source": [
    "#CALCULATE INTRA-SUBJECT VARIANCE"
   ]
  },
  {
   "cell_type": "code",
   "execution_count": 9,
   "id": "12673715-376a-4bc1-864d-29ade79194ee",
   "metadata": {},
   "outputs": [],
   "source": [
    "intra_subject_variance = {}\n",
    "for condition in conditions:\n",
    "    condition_dict = {}    \n",
    "    for method in methods:\n",
    "        variance_per_subject = []\n",
    "        for subject in subjects:\n",
    "            xarray = xr.open_dataarray(f'/Users/lina_01/Desktop/mpi_lemon/undirected_outputs/{method}/{subject}_array_{method}_{condition}.nc')\n",
    "            standardized_means = []\n",
    "            for sample in range(0,100):\n",
    "                xarray_sel = xarray.sel(bootstrap_samples=sample, region1=vn, region2=vn)\n",
    "                mean = float(xarray_sel.mean())\n",
    "                std = float(xarray_sel.std())\n",
    "                standardized_means.append(std/mean)  #stds get larger with larger means. Standardizing stds by dividing by mean, so that methods may be compared on same scale\n",
    "            variance = np.std(standardized_means)**2\n",
    "            variance_per_subject.append(variance)\n",
    "        condition_dict[method] = np.mean(variance_per_subject)\n",
    "    intra_subject_variance[condition] = condition_dict"
   ]
  },
  {
   "cell_type": "code",
   "execution_count": 12,
   "id": "6ff02f3a-253e-4f9d-b122-84151f6c11c3",
   "metadata": {},
   "outputs": [],
   "source": [
    "mean_list = []\n",
    "std_list = []\n",
    "\n",
    "for subject in subjects:\n",
    "\n",
    "    xarray = xr.open_dataarray(f'/Users/lina_01/Desktop/mpi_lemon/undirected_outputs/wpli2/{subject}_array_{method}_{condition}.nc')\n",
    "    sample_means = []\n",
    "    sample_stds = []\n",
    "    \n",
    "    for sample in range(0,100):\n",
    "        xarray_sel = xarray.sel(bootstrap_samples=sample, region1=vn, region2=vn)\n",
    "        mean = float(xarray_sel.mean())\n",
    "        std = float(xarray_sel.std())\n",
    "        \n",
    "        sample_means.append(mean)\n",
    "        sample_stds.append(std)\n",
    "\n",
    "    mean_list.append(np.mean(sample_means))\n",
    "    std_list.append(np.mean(sample_stds))\n"
   ]
  },
  {
   "cell_type": "code",
   "execution_count": 18,
   "id": "94c7edc1-8e46-4280-8e8d-368db73193d2",
   "metadata": {},
   "outputs": [],
   "source": [
    "mean_list_no_outlier = [mean for mean in mean_list if mean<0.02]"
   ]
  },
  {
   "cell_type": "code",
   "execution_count": 21,
   "id": "2b7c2c30-1a22-4875-81d3-3cb11c156d9c",
   "metadata": {},
   "outputs": [],
   "source": [
    "std_list_no_outlier = [std for std in std_list if std<0.06]"
   ]
  },
  {
   "cell_type": "code",
   "execution_count": 25,
   "id": "4f83db5e-5e2f-4285-b2cb-1b55dd946eac",
   "metadata": {},
   "outputs": [
    {
     "data": {
      "text/plain": [
       "27.042958762936102"
      ]
     },
     "execution_count": 25,
     "metadata": {},
     "output_type": "execute_result"
    }
   ],
   "source": [
    "std_list_no_outlier[0]/mean_list_no_outlier[0]"
   ]
  },
  {
   "cell_type": "code",
   "execution_count": 15,
   "id": "d51aad84-8404-4873-acfb-8f3a695e493d",
   "metadata": {},
   "outputs": [],
   "source": [
    "import seaborn as sns"
   ]
  },
  {
   "cell_type": "code",
   "execution_count": 22,
   "id": "0719e7b6-dc57-4506-9aca-1ce72f091aec",
   "metadata": {},
   "outputs": [
    {
     "data": {
      "text/plain": [
       "<Axes: >"
      ]
     },
     "execution_count": 22,
     "metadata": {},
     "output_type": "execute_result"
    },
    {
     "data": {
      "image/png": "[encoded data removed]",
      "text/plain": [
       "<Figure size 640x480 with 1 Axes>"
      ]
     },
     "metadata": {},
     "output_type": "display_data"
    }
   ],
   "source": [
    "sns.boxplot(std_list_no_outlier)"
   ]
  },
  {
   "cell_type": "code",
   "execution_count": 10,
   "id": "b8af9165-f1be-4eaf-a3c9-bde712d66eb8",
   "metadata": {},
   "outputs": [
    {
     "data": {
      "text/plain": [
       "{'EO': {'coh': 0.00027334352521307524,\n",
       "  'ciplv': 0.004311127178627799,\n",
       "  'imcoh': 3690641.8423835835,\n",
       "  'wpli2': 310487.06438876124},\n",
       " 'EC': {'coh': 0.00034127404092769914,\n",
       "  'ciplv': 0.004035805564344214,\n",
       "  'imcoh': 11968507.858328387,\n",
       "  'wpli2': 176067.62527514008}}"
      ]
     },
     "execution_count": 10,
     "metadata": {},
     "output_type": "execute_result"
    }
   ],
   "source": [
    "intra_subject_variance"
   ]
  },
  {
   "cell_type": "code",
   "execution_count": 5,
   "id": "08f6edb2-e3b3-484e-a244-0d0f178b2406",
   "metadata": {},
   "outputs": [
    {
     "data": {
      "text/plain": [
       "{'EO': {'coh': 4.132560584572334e-06,\n",
       "  'ciplv': 5.269786543493939e-06,\n",
       "  'imcoh': 1.6921321643831103e-06,\n",
       "  'wpli2': 2.263572002978859e-06},\n",
       " 'EC': {'coh': 3.540251858764824e-06,\n",
       "  'ciplv': 5.8168599400247114e-06,\n",
       "  'imcoh': 1.4503351962160827e-06,\n",
       "  'wpli2': 3.7691857911563666e-06}}"
      ]
     },
     "execution_count": 5,
     "metadata": {},
     "output_type": "execute_result"
    }
   ],
   "source": [
    "intra_subject_variance"
   ]
  },
  {
   "cell_type": "code",
   "execution_count": 16,
   "id": "16d24911-bfef-42a6-8424-f9fc330e7c24",
   "metadata": {},
   "outputs": [
    {
     "data": {
      "text/plain": [
       "{'EO': {'coh': 0.0007089194926995154,\n",
       "  'ciplv': 1.589471735562101e-05,\n",
       "  'imcoh': 3.933224046587579e-06,\n",
       "  'wpli2': 1.2916318221102206e-05},\n",
       " 'EC': {'coh': 0.00045111117928560814,\n",
       "  'ciplv': 8.110093226079214e-05,\n",
       "  'imcoh': 9.315652210398905e-06,\n",
       "  'wpli2': 8.621990031468762e-05}}"
      ]
     },
     "execution_count": 16,
     "metadata": {},
     "output_type": "execute_result"
    }
   ],
   "source": [
    "inter_subject_variance"
   ]
  },
  {
   "cell_type": "code",
   "execution_count": 15,
   "id": "cc4940a3-9cda-487e-b6ba-c064d4fbb238",
   "metadata": {},
   "outputs": [
    {
     "data": {
      "text/plain": [
       "{'EO': {'coh': 4.132560584572334e-06,\n",
       "  'ciplv': 5.269786543493939e-06,\n",
       "  'imcoh': 1.6921321643831103e-06,\n",
       "  'wpli2': 2.263572002978859e-06},\n",
       " 'EC': {'coh': 3.540251858764824e-06,\n",
       "  'ciplv': 5.8168599400247114e-06,\n",
       "  'imcoh': 1.4503351962160827e-06,\n",
       "  'wpli2': 3.7691857911563666e-06}}"
      ]
     },
     "execution_count": 15,
     "metadata": {},
     "output_type": "execute_result"
    }
   ],
   "source": [
    "intra_subject_variance"
   ]
  },
  {
   "cell_type": "code",
   "execution_count": null,
   "id": "fa5223d9-f2f7-4aa4-b020-b944633b9c49",
   "metadata": {},
   "outputs": [],
   "source": [
    "#CALCULATE RATIOS OF INTER TO INTRA SUBJECT VARIANCE"
   ]
  },
  {
   "cell_type": "code",
   "execution_count": 18,
   "id": "337b1f4a-d86f-4a0c-ae22-4e8b5801de07",
   "metadata": {},
   "outputs": [],
   "source": [
    "ratios = {}\n",
    "for condition in conditions:\n",
    "    condition_dict = {}\n",
    "    for method in methods:\n",
    "        ratio = inter_subject_variance[condition][method]/intra_subject_variance[condition][method]\n",
    "        condition_dict[method] = ratio\n",
    "    ratios[condition] = condition_dict"
   ]
  },
  {
   "cell_type": "code",
   "execution_count": 19,
   "id": "18420ac2-9480-4415-8385-17edea036e44",
   "metadata": {},
   "outputs": [
    {
     "data": {
      "text/plain": [
       "{'EO': {'coh': 171.54485171882348,\n",
       "  'ciplv': 3.016197567858717,\n",
       "  'imcoh': 2.3244189368751167,\n",
       "  'wpli2': 5.7061662735288925},\n",
       " 'EC': {'coh': 127.42347078182131,\n",
       "  'ciplv': 13.942390412867256,\n",
       "  'imcoh': 6.423102903868978,\n",
       "  'wpli2': 22.874940396142108}}"
      ]
     },
     "execution_count": 19,
     "metadata": {},
     "output_type": "execute_result"
    }
   ],
   "source": [
    "ratios"
   ]
  },
  {
   "cell_type": "code",
   "execution_count": null,
   "id": "bbfda713-ace3-4629-a129-a6dd4f8c149e",
   "metadata": {},
   "outputs": [],
   "source": []
  }
 ],
 "metadata": {
  "kernelspec": {
   "display_name": "Python 3 (ipykernel)",
   "language": "python",
   "name": "python3"
  },
  "language_info": {
   "codemirror_mode": {
    "name": "ipython",
    "version": 3
   },
   "file_extension": ".py",
   "mimetype": "text/x-python",
   "name": "python",
   "nbconvert_exporter": "python",
   "pygments_lexer": "ipython3",
   "version": "3.11.5"
  }
 },
 "nbformat": 4,
 "nbformat_minor": 5
}
