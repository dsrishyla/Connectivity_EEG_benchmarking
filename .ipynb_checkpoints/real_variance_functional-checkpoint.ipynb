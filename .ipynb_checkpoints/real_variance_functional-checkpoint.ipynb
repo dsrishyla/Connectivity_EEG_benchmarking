{
 "cells": [
  {
   "cell_type": "code",
   "execution_count": 1,
   "id": "9b08c0dc-eb15-4b1d-b3b0-c87a14d4576c",
   "metadata": {},
   "outputs": [],
   "source": [
    "import pandas as pd\n",
    "import glob\n",
    "import xarray as xr\n",
    "import numpy as np\n",
    "from statsmodels.stats.anova import AnovaRM \n",
    "from scipy import stats\n",
    "from matplotlib import pyplot as plt\n",
    "import pingouin as pg\n",
    "import numpy as np\n",
    "import seaborn as sns\n",
    "import scipy"
   ]
  },
  {
   "cell_type": "code",
   "execution_count": 2,
   "id": "9033e91a-a1f4-46c6-9a9a-1f0f1acc25b0",
   "metadata": {},
   "outputs": [],
   "source": [
    "vn = ['fusiform-rh', 'fusiform-lh', 'lingual-lh', 'lingual-rh',\n",
    "'cuneus-rh','cuneus-lh', 'lateraloccipital-rh', 'lateraloccipital-lh']\n",
    "\n",
    "methods = ['coh','ciplv','imcoh','wpli2']"
   ]
  },
  {
   "cell_type": "code",
   "execution_count": 5,
   "id": "e6468600-88f5-4467-8a47-05fd5cc4d42b",
   "metadata": {},
   "outputs": [],
   "source": [
    "#intra-subject variance\n",
    "\n",
    "intra_variance_dict = {}\n",
    "for method in methods: \n",
    "    subject_files = glob.glob(f'/Users/lina_01/Desktop/mpi_lemon/undirected_outputs/{method}/*_EC.nc')\n",
    "    mean_per_subject = []\n",
    "    for file in subject_files:\n",
    "        xarray = xr.open_dataarray(file)\n",
    "        std_mean_list = []\n",
    "        for sample in range(0,100):\n",
    "            std = xarray.sel(bootstrap_samples=sample, region1=vn, region2=vn).values.std()\n",
    "            mean = xarray.sel(bootstrap_samples=sample, region1=vn, region2=vn).values.mean()\n",
    "            std_mean_list.append(std/mean)\n",
    "        mean_per_subject.append(np.mean(std_mean_list))\n",
    "    intra_variance_dict[method] = mean_per_subject"
   ]
  },
  {
   "cell_type": "code",
   "execution_count": 27,
   "id": "a1796882-7252-4cf5-a076-fe233d1564dc",
   "metadata": {},
   "outputs": [],
   "source": [
    "#Inter-subject variance\n",
    "\n",
    "inter_variance_dict = {}\n",
    "for method in methods:\n",
    "    subject_files = glob.glob(f'/Users/lina_01/Desktop/mpi_lemon/undirected_outputs/{method}/*_EC.nc')\n",
    "    all_bootstraps = []  #list of 11200 arrays\n",
    "    for file in subject_files:\n",
    "        xarray = xr.open_dataarray(file)\n",
    "        for sample in range(0,100):\n",
    "            bootstrap = xarray.sel(bootstrap_samples=sample, region1=vn, region2=vn).values\n",
    "            all_bootstraps.append(bootstrap)\n",
    "    \n",
    "    random_bootstraps = []\n",
    "    for i in range(0,112):\n",
    "        index = np.random.choice(range(0,11200),100)\n",
    "        sample = np.array(all_bootstraps)[index,:]\n",
    "        random_bootstraps.append(sample)\n",
    "\n",
    "    mean_per_bootstrap = []\n",
    "    for sample in random_bootstraps:\n",
    "        std_mean_list = []\n",
    "        for i in range(0,100):\n",
    "            std = sample[i].std()\n",
    "            mean = sample[i].mean()\n",
    "            std_mean_list.append(std/mean)\n",
    "    \n",
    "        mean_per_bootstrap.append(np.mean(std_mean_list))\n",
    "    \n",
    "    inter_variance_dict[method] = mean_per_bootstrap"
   ]
  },
  {
   "cell_type": "code",
   "execution_count": 29,
   "id": "0ccd4b0f-af2e-4eef-94d4-64cb841607d9",
   "metadata": {},
   "outputs": [],
   "source": [
    "#comparing inter- and intra-variance for each method\n",
    "p_vals = {}\n",
    "eff_size = {}\n",
    "for method in methods:\n",
    "    p_val = stats.ranksums(inter_variance_dict[method], intra_variance_dict[method])[1]\n",
    "    \n",
    "    n1 = len(inter_variance_dict[method])\n",
    "    n2 = len(intra_variance_dict[method])\n",
    "    sd1 = np.std(inter_variance_dict[method])\n",
    "    sd2 = np.std(intra_variance_dict[method])\n",
    "\n",
    "    mean1 = np.mean(inter_variance_dict[method])\n",
    "    mean2 = np.mean(intra_variance_dict[method])\n",
    "\n",
    "    pooled_sd = np.sqrt((((n1-1)*(sd1**2))+((n2-1)*(sd2**2)))/(n1+n2-2))\n",
    "\n",
    "    cohens_d = (mean1 - mean2) / pooled_sd\n",
    "\n",
    "    p_vals[method] = p_val\n",
    "    eff_size[method] = cohens_d"
   ]
  },
  {
   "cell_type": "code",
   "execution_count": null,
   "id": "29c648d1-1d4c-4c81-8aa9-ab955a7a07d0",
   "metadata": {},
   "outputs": [],
   "source": [
    "##CHECK STATISTICAL TEST ASSUMPTIONS FOR ANOVA"
   ]
  },
  {
   "cell_type": "code",
   "execution_count": 48,
   "id": "9416a302-223b-45e1-8089-1041cb43d3f9",
   "metadata": {},
   "outputs": [
    {
     "name": "stdout",
     "output_type": "stream",
     "text": [
      "coh [110] []\n",
      "ciplv [32] []\n",
      "imcoh [  5  11  31  39  46  53  58  69  74  94 103] [ 12  15  32  41  52  61  80  86  90  93 105 108]\n",
      "wpli2 [ 37  72  96 107] [16 18 40 50 77 88 92]\n"
     ]
    }
   ],
   "source": [
    "#outliers\n",
    "\n",
    "for method in methods:\n",
    "    q1 = np.percentile(inter_variance_dict[method], 25, method='midpoint')\n",
    "    q3 = np.percentile(inter_variance_dict[method], 75, method='midpoint')\n",
    "    iqr = q3 - q1\n",
    "    upper = q3 + 1.5 * iqr\n",
    "    lower = q1 - 1.5 * iqr\n",
    "    upper_array = np.where(inter_variance_dict[method] >= upper)[0]\n",
    "    lower_array = np.where(inter_variance_dict[method] <= lower)[0]\n",
    "    print(method, upper_array, lower_array)\n",
    "#q1\n",
    "#q3\n",
    "#if above q1\n",
    "#if below q3\n",
    "#print"
   ]
  },
  {
   "cell_type": "code",
   "execution_count": 49,
   "id": "32a28a76-1f0e-4196-abc2-218376f26e78",
   "metadata": {},
   "outputs": [
    {
     "data": {
      "text/html": [
       "<div>\n",
       "<style scoped>\n",
       "    .dataframe tbody tr th:only-of-type {\n",
       "        vertical-align: middle;\n",
       "    }\n",
       "\n",
       "    .dataframe tbody tr th {\n",
       "        vertical-align: top;\n",
       "    }\n",
       "\n",
       "    .dataframe thead th {\n",
       "        text-align: right;\n",
       "    }\n",
       "</style>\n",
       "<table border=\"1\" class=\"dataframe\">\n",
       "  <thead>\n",
       "    <tr style=\"text-align: right;\">\n",
       "      <th></th>\n",
       "      <th>0</th>\n",
       "    </tr>\n",
       "  </thead>\n",
       "  <tbody>\n",
       "    <tr>\n",
       "      <th>0</th>\n",
       "      <td>1.656469</td>\n",
       "    </tr>\n",
       "    <tr>\n",
       "      <th>1</th>\n",
       "      <td>1.636537</td>\n",
       "    </tr>\n",
       "    <tr>\n",
       "      <th>2</th>\n",
       "      <td>1.632210</td>\n",
       "    </tr>\n",
       "    <tr>\n",
       "      <th>3</th>\n",
       "      <td>1.631289</td>\n",
       "    </tr>\n",
       "    <tr>\n",
       "      <th>4</th>\n",
       "      <td>1.641756</td>\n",
       "    </tr>\n",
       "    <tr>\n",
       "      <th>...</th>\n",
       "      <td>...</td>\n",
       "    </tr>\n",
       "    <tr>\n",
       "      <th>106</th>\n",
       "      <td>1.616444</td>\n",
       "    </tr>\n",
       "    <tr>\n",
       "      <th>108</th>\n",
       "      <td>1.663184</td>\n",
       "    </tr>\n",
       "    <tr>\n",
       "      <th>109</th>\n",
       "      <td>1.661154</td>\n",
       "    </tr>\n",
       "    <tr>\n",
       "      <th>110</th>\n",
       "      <td>1.692252</td>\n",
       "    </tr>\n",
       "    <tr>\n",
       "      <th>111</th>\n",
       "      <td>1.651740</td>\n",
       "    </tr>\n",
       "  </tbody>\n",
       "</table>\n",
       "<p>108 rows × 1 columns</p>\n",
       "</div>"
      ],
      "text/plain": [
       "            0\n",
       "0    1.656469\n",
       "1    1.636537\n",
       "2    1.632210\n",
       "3    1.631289\n",
       "4    1.641756\n",
       "..        ...\n",
       "106  1.616444\n",
       "108  1.663184\n",
       "109  1.661154\n",
       "110  1.692252\n",
       "111  1.651740\n",
       "\n",
       "[108 rows x 1 columns]"
      ]
     },
     "execution_count": 49,
     "metadata": {},
     "output_type": "execute_result"
    }
   ],
   "source": [
    "#remove outliers from each list\n",
    "pd.DataFrame(inter_variance_dict['coh']).drop(index=upper_array)"
   ]
  },
  {
   "cell_type": "code",
   "execution_count": 50,
   "id": "581731cf-5274-477b-a8d9-dcbbe9c55d6a",
   "metadata": {},
   "outputs": [
    {
     "data": {
      "text/html": [
       "<div>\n",
       "<style scoped>\n",
       "    .dataframe tbody tr th:only-of-type {\n",
       "        vertical-align: middle;\n",
       "    }\n",
       "\n",
       "    .dataframe tbody tr th {\n",
       "        vertical-align: top;\n",
       "    }\n",
       "\n",
       "    .dataframe thead th {\n",
       "        text-align: right;\n",
       "    }\n",
       "</style>\n",
       "<table border=\"1\" class=\"dataframe\">\n",
       "  <thead>\n",
       "    <tr style=\"text-align: right;\">\n",
       "      <th></th>\n",
       "      <th>0</th>\n",
       "    </tr>\n",
       "  </thead>\n",
       "  <tbody>\n",
       "    <tr>\n",
       "      <th>0</th>\n",
       "      <td>1.656469</td>\n",
       "    </tr>\n",
       "    <tr>\n",
       "      <th>1</th>\n",
       "      <td>1.636537</td>\n",
       "    </tr>\n",
       "    <tr>\n",
       "      <th>2</th>\n",
       "      <td>1.632210</td>\n",
       "    </tr>\n",
       "    <tr>\n",
       "      <th>3</th>\n",
       "      <td>1.631289</td>\n",
       "    </tr>\n",
       "    <tr>\n",
       "      <th>4</th>\n",
       "      <td>1.641756</td>\n",
       "    </tr>\n",
       "    <tr>\n",
       "      <th>...</th>\n",
       "      <td>...</td>\n",
       "    </tr>\n",
       "    <tr>\n",
       "      <th>107</th>\n",
       "      <td>1.619093</td>\n",
       "    </tr>\n",
       "    <tr>\n",
       "      <th>108</th>\n",
       "      <td>1.663184</td>\n",
       "    </tr>\n",
       "    <tr>\n",
       "      <th>109</th>\n",
       "      <td>1.661154</td>\n",
       "    </tr>\n",
       "    <tr>\n",
       "      <th>110</th>\n",
       "      <td>1.692252</td>\n",
       "    </tr>\n",
       "    <tr>\n",
       "      <th>111</th>\n",
       "      <td>1.651740</td>\n",
       "    </tr>\n",
       "  </tbody>\n",
       "</table>\n",
       "<p>105 rows × 1 columns</p>\n",
       "</div>"
      ],
      "text/plain": [
       "            0\n",
       "0    1.656469\n",
       "1    1.636537\n",
       "2    1.632210\n",
       "3    1.631289\n",
       "4    1.641756\n",
       "..        ...\n",
       "107  1.619093\n",
       "108  1.663184\n",
       "109  1.661154\n",
       "110  1.692252\n",
       "111  1.651740\n",
       "\n",
       "[105 rows x 1 columns]"
      ]
     },
     "execution_count": 50,
     "metadata": {},
     "output_type": "execute_result"
    }
   ],
   "source": [
    "pd.DataFrame(inter_variance_dict['coh']).drop(index=lower_array)"
   ]
  },
  {
   "cell_type": "code",
   "execution_count": null,
   "id": "91935227-060b-4466-a3aa-26497cae28b7",
   "metadata": {},
   "outputs": [],
   "source": []
  },
  {
   "cell_type": "code",
   "execution_count": null,
   "id": "c40779b3-c252-44ae-b005-7dfd5047649f",
   "metadata": {},
   "outputs": [],
   "source": []
  },
  {
   "cell_type": "code",
   "execution_count": null,
   "id": "08cf1e32-fa3c-4cc6-8fab-faa1b0e7a84b",
   "metadata": {},
   "outputs": [],
   "source": []
  },
  {
   "cell_type": "code",
   "execution_count": null,
   "id": "ce62d833-2ac7-409c-8c76-3476603d0c04",
   "metadata": {},
   "outputs": [],
   "source": [
    "#outliers"
   ]
  },
  {
   "cell_type": "code",
   "execution_count": 20,
   "id": "983c0e77-b759-4ef9-946b-3d143a76e849",
   "metadata": {},
   "outputs": [
    {
     "data": {
      "text/plain": [
       "ShapiroResult(statistic=0.22635972499847412, pvalue=1.1481774802441242e-21)"
      ]
     },
     "execution_count": 20,
     "metadata": {},
     "output_type": "execute_result"
    }
   ],
   "source": [
    "\n",
    "#normal distribution\n",
    "for method in methods:\n",
    "    print(stats.shapiro(intra_variance_dict[method]))"
   ]
  },
  {
   "cell_type": "code",
   "execution_count": null,
   "id": "8c3a2b91-732c-4667-8571-99fd788a5bf9",
   "metadata": {},
   "outputs": [],
   "source": [
    "#normal distribution\n",
    "for method in methods:\n",
    "    print(stats.shapiro(inter_variance_dict[method]))"
   ]
  },
  {
   "cell_type": "code",
   "execution_count": null,
   "id": "5fe8dab9-928d-4588-a9ca-74c26d6d1fb1",
   "metadata": {},
   "outputs": [],
   "source": [
    "#homogeneity of variance \n",
    "stats.levene(intra_variance_dict['wpli2'], intra_variance_dict['ciplv'], intra_variance_dict['coh'], intra_variance_dict['imcoh'])"
   ]
  },
  {
   "cell_type": "code",
   "execution_count": 21,
   "id": "640a4188-b6c2-4b4b-aea4-c5fd0fa57642",
   "metadata": {},
   "outputs": [
    {
     "name": "stderr",
     "output_type": "stream",
     "text": [
      "/Library/Frameworks/Python.framework/Versions/3.11/lib/python3.11/site-packages/scipy/stats/_morestats.py:3189: RuntimeWarning: invalid value encountered in double_scalars\n",
      "  W = numer / denom\n"
     ]
    },
    {
     "data": {
      "text/plain": [
       "LeveneResult(statistic=nan, pvalue=nan)"
      ]
     },
     "execution_count": 21,
     "metadata": {},
     "output_type": "execute_result"
    }
   ],
   "source": [
    "#homogeneity of variance \n",
    "stats.levene(inter_variance_dict['wpli2'], inter_variance_dict['ciplv'], inter_variance_dict['coh'], inter_variance_dict['imcoh'])"
   ]
  },
  {
   "cell_type": "code",
   "execution_count": 22,
   "id": "d5f650c6-7d35-42cd-965c-3970c1d6af55",
   "metadata": {},
   "outputs": [
    {
     "data": {
      "text/plain": [
       "KruskalResult(statistic=3.0, pvalue=0.3916251762710877)"
      ]
     },
     "execution_count": 22,
     "metadata": {},
     "output_type": "execute_result"
    }
   ],
   "source": [
    "#ANOVA/KRUSKAL\n",
    "stats.kruskal(inter_variance_dict['coh'], inter_variance_dict['ciplv'], inter_variance_dict['imcoh'], inter_variance_dict['wpli2'])\n"
   ]
  },
  {
   "cell_type": "code",
   "execution_count": null,
   "id": "264d5551-7598-47a8-abf6-d6b429652f67",
   "metadata": {},
   "outputs": [],
   "source": [
    "#post-hoc 1"
   ]
  },
  {
   "cell_type": "code",
   "execution_count": null,
   "id": "4f2a02e0-4fee-474c-ab92-384e7597a95d",
   "metadata": {},
   "outputs": [],
   "source": [
    "#post-hoc 2"
   ]
  },
  {
   "cell_type": "code",
   "execution_count": null,
   "id": "9ee708d1-1616-41fe-8262-cf9c2d36fa9f",
   "metadata": {},
   "outputs": [],
   "source": [
    "#post-hoc 3"
   ]
  },
  {
   "cell_type": "code",
   "execution_count": null,
   "id": "870ce5c9-b2b9-4e06-99fc-69c3731157d9",
   "metadata": {},
   "outputs": [],
   "source": [
    "#post-hoc 4"
   ]
  },
  {
   "cell_type": "code",
   "execution_count": 23,
   "id": "7ec2c0cc-5391-4a8f-8be1-32407b972f8b",
   "metadata": {},
   "outputs": [
    {
     "data": {
      "text/plain": [
       "KruskalResult(statistic=111.89188524101178, pvalue=4.296905740882862e-24)"
      ]
     },
     "execution_count": 23,
     "metadata": {},
     "output_type": "execute_result"
    }
   ],
   "source": [
    "#ANOVA/KRUSKAL\n",
    "stats.kruskal(intra_variance_dict['coh'], intra_variance_dict['ciplv'], intra_variance_dict['imcoh'], intra_variance_dict['wpli2'])\n"
   ]
  },
  {
   "cell_type": "code",
   "execution_count": 29,
   "id": "548ddafd-fee4-4c40-b5a6-2a674475b0f7",
   "metadata": {},
   "outputs": [
    {
     "data": {
      "text/plain": [
       "DunnettResult(statistic=array([ 0.61759998,  6.14165444, -5.638013  ]), pvalue=array([8.70785510e-01, 5.04115139e-09, 8.38514809e-08]))"
      ]
     },
     "execution_count": 29,
     "metadata": {},
     "output_type": "execute_result"
    }
   ],
   "source": [
    "#post-hoc 1\n",
    "stats.dunnett(np.array(intra_variance_dict['wpli2']), np.array(intra_variance_dict['ciplv']), np.array(intra_variance_dict['imcoh']), control=intra_variance_dict['coh'])\n"
   ]
  },
  {
   "cell_type": "code",
   "execution_count": 30,
   "id": "2d5a3c11-e516-45f6-bfae-50c395b2f562",
   "metadata": {},
   "outputs": [
    {
     "data": {
      "text/plain": [
       "DunnettResult(statistic=array([ -6.14165444,  -5.52405446, -11.77966744]), pvalue=array([4.45174342e-09, 1.68397960e-07, 0.00000000e+00]))"
      ]
     },
     "execution_count": 30,
     "metadata": {},
     "output_type": "execute_result"
    }
   ],
   "source": [
    "#post-hoc 2\n",
    "stats.dunnett(np.array(intra_variance_dict['coh']), np.array(intra_variance_dict['wpli2']), np.array(intra_variance_dict['imcoh']), control=intra_variance_dict['ciplv'])\n"
   ]
  },
  {
   "cell_type": "code",
   "execution_count": 31,
   "id": "344287a2-0ebc-447c-bde9-00b53e3dd01b",
   "metadata": {},
   "outputs": [
    {
     "data": {
      "text/plain": [
       "DunnettResult(statistic=array([ 5.638013  , 11.77966744,  6.25561298]), pvalue=array([7.93634751e-08, 0.00000000e+00, 2.47917142e-09]))"
      ]
     },
     "execution_count": 31,
     "metadata": {},
     "output_type": "execute_result"
    }
   ],
   "source": [
    "#post-hoc 3\n",
    "stats.dunnett(np.array(intra_variance_dict['coh']), np.array(intra_variance_dict['ciplv']), np.array(intra_variance_dict['wpli2']), control=intra_variance_dict['imcoh'])\n"
   ]
  },
  {
   "cell_type": "code",
   "execution_count": 28,
   "id": "e58a8640-e78f-4cb1-98b5-9aaaff36aba1",
   "metadata": {},
   "outputs": [
    {
     "data": {
      "text/plain": [
       "DunnettResult(statistic=array([-0.61759998,  5.52405446, -6.25561298]), pvalue=array([8.70797445e-01, 1.45767620e-07, 1.86393179e-09]))"
      ]
     },
     "execution_count": 28,
     "metadata": {},
     "output_type": "execute_result"
    }
   ],
   "source": [
    "#post-hoc 4\n",
    "stats.dunnett(np.array(intra_variance_dict['coh']), np.array(intra_variance_dict['ciplv']), np.array(intra_variance_dict['imcoh']), control=intra_variance_dict['wpli2'])"
   ]
  },
  {
   "cell_type": "code",
   "execution_count": null,
   "id": "9e9bc928-db39-4437-8f3d-89086df8b1f8",
   "metadata": {},
   "outputs": [],
   "source": []
  }
 ],
 "metadata": {
  "kernelspec": {
   "display_name": "Python 3 (ipykernel)",
   "language": "python",
   "name": "python3"
  },
  "language_info": {
   "codemirror_mode": {
    "name": "ipython",
    "version": 3
   },
   "file_extension": ".py",
   "mimetype": "text/x-python",
   "name": "python",
   "nbconvert_exporter": "python",
   "pygments_lexer": "ipython3",
   "version": "3.11.5"
  }
 },
 "nbformat": 4,
 "nbformat_minor": 5
}
