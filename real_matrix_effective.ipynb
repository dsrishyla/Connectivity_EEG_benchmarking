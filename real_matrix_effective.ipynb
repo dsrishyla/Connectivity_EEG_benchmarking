{
 "cells": [
  {
   "cell_type": "code",
   "execution_count": null,
   "id": "d8944d0c-a5e4-435b-bf06-8c8f58d2926d",
   "metadata": {},
   "outputs": [],
   "source": [
    "import glob\n",
    "import xarrays as xr\n",
    "import seaborn as sns\n",
    "import matplotlib.pyplot as plt\n",
    "import pandas as pd"
   ]
  },
  {
   "cell_type": "code",
   "execution_count": null,
   "id": "d12910fd-3f56-41a8-952d-21f4e95d60ce",
   "metadata": {},
   "outputs": [],
   "source": [
    "methods = ['psgp','gpdc','ddtf']\n",
    "\n",
    "vn = ['fusiform-rh', 'fusiform-lh', 'lingual-lh', 'lingual-rh',\n",
    "'cuneus-rh','cuneus-lh', 'lateraloccipital-rh', 'lateraloccipital-lh']"
   ]
  },
  {
   "cell_type": "code",
   "execution_count": null,
   "id": "019b8add-2a74-4250-a91e-0ea8a16fc77f",
   "metadata": {},
   "outputs": [],
   "source": [
    "fig, axes = plt.subplots(2,3,figsize=(15,5))\n",
    "\n",
    "for method, ax in zip(methods, axes[0].ravel()):\n",
    "    xarrays = glob.glob(f'/work/srishyla/{method}/*_{method}_EC.nc')\n",
    "                \n",
    "    xarrays_combined = []\n",
    "    for array in xarrays:\n",
    "        xarrays_combined.append(xr.open_dataarray(array))\n",
    "    \n",
    "    xarrays_combined = xr.concat(xarrays_combined, pd.Index(subjects, name=\"subjects\"))\n",
    "    xarrays_combined_vn = xarrays_combined.sel(region1 = vn, region2 = vn)\n",
    "    \n",
    "    matrix_df = xarrays_combined_vn.mean(dim=[\"bootstrap_samples\",\"subjects\",\"frequencies\"]).values \n",
    "    sns.heatmap(matrix_df,ax = ax)\n",
    "    ax.set_title(method)\n",
    "\n",
    "for method, ax in zip(methods, axes[1].ravel()):\n",
    "    xarrays = glob.glob(f'/work/srishyla/{method}/*_{method}_EO.nc')\n",
    "                \n",
    "    xarrays_combined = []\n",
    "    for array in xarrays:\n",
    "        xarrays_combined.append(xr.open_dataarray(array))\n",
    "    \n",
    "    xarrays_combined = xr.concat(xarrays_combined, pd.Index(subjects, name=\"subjects\"))\n",
    "    xarrays_combined_vn = xarrays_combined.sel(region1 = vn, region2 = vn)\n",
    "    \n",
    "    matrix_df = xarrays_combined_vn.mean(dim=[\"bootstrap_samples\",\"subjects\",\"frequencies\"]).values \n",
    "    sns.heatmap(matrix_df,ax = ax)\n",
    "    ax.set_title(method)\n",
    "\n",
    "plt.savefig('con_matrix_effective.png',dpi=300)\n",
    "    "
   ]
  }
 ],
 "metadata": {
  "kernelspec": {
   "display_name": "Python 3 (ipykernel)",
   "language": "python",
   "name": "python3"
  },
  "language_info": {
   "codemirror_mode": {
    "name": "ipython",
    "version": 3
   },
   "file_extension": ".py",
   "mimetype": "text/x-python",
   "name": "python",
   "nbconvert_exporter": "python",
   "pygments_lexer": "ipython3",
   "version": "3.11.5"
  }
 },
 "nbformat": 4,
 "nbformat_minor": 5
}
