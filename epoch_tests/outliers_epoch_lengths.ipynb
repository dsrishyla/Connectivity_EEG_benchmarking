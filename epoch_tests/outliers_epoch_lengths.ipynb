{
 "cells": [
  {
   "cell_type": "code",
   "execution_count": 1,
   "id": "be8a7a98-0339-423e-9e99-aa9b89f93d66",
   "metadata": {},
   "outputs": [],
   "source": [
    "import numpy as np\n",
    "import xarray as xr\n",
    "import matplotlib.pyplot as plt\n",
    "import pandas as pd\n",
    "from pathlib import Path"
   ]
  },
  {
   "cell_type": "code",
   "execution_count": 2,
   "id": "6123929b-e443-4b5e-a557-9df6f970ac97",
   "metadata": {},
   "outputs": [],
   "source": [
    "subjects = ['sub-032302', 'sub-032304', 'sub-032307', 'sub-032310', 'sub-032312']\n",
    "lengths = [1,2,4,6,8,10,12,14,16,18,20]\n",
    "metric = ['coh','ciplv','imcoh','wpli2_debiased']\n",
    "condition = \"EC\"\n",
    "k = 3"
   ]
  },
  {
   "cell_type": "code",
   "execution_count": 13,
   "id": "e60d7956-0b28-47ff-b4c8-c1580fcc08ad",
   "metadata": {},
   "outputs": [],
   "source": [
    "#Compiling outliers by frequency, per length, per subject\n",
    "#path = Path(\".\")\n",
    "path = Path(\"/work/srishyla/EPOCH_tests_functional/\")\n",
    "\n",
    "metric_outliers_means = {}\n",
    "metric_outliers_stds = {}\n",
    "\n",
    "for metric in metrics:\n",
    "    subject_outliers_means = {}\n",
    "    subject_outliers_stds = {}\n",
    "\n",
    "    for subject in subjects:\n",
    "        length_outliers_means = {}\n",
    "        length_outliers_stds = {}\n",
    "        \n",
    "        for length in lengths:\n",
    "            xarray_EC = xr.open_dataarray(path / f'{subject}_array_{metric}_{length}_{condition}.nc')\n",
    "    \n",
    "            N1 = len(xarray_EC.coords[\"region1\"])\n",
    "            N2 = len(xarray_EC.coords[\"region2\"])\n",
    "    \n",
    "            xr_quantiles = xarray_EC.quantile(q=[0.5, 0.75], dim=[\"region1\", \"region2\", \"bootstrap_samples\"])\n",
    "            q2 = xr_quantiles.sel(quantile=0.5).drop_vars(\"quantile\") \n",
    "            q3 = xr_quantiles.sel(quantile=0.75).drop_vars(\"quantile\") \n",
    "            xr_thresholds = q2 + (k*(q3-q2))\n",
    "            \n",
    "            xr_signif_val = (xarray_EC > xr_thresholds).sum(dim=[\"region1\", \"region2\"])\n",
    "            xr_signif_val = xr_signif_val/N1/N2\n",
    "    \n",
    "            # Using np.mean here because I want to reduce this whole xarray to a single number\n",
    "            length_outliers_means[length] = float(np.mean(xr_signif_val))\n",
    "            length_outliers_stds[length] = float(np.std(xr_signif_val))\n",
    "            \n",
    "        subject_outliers_means[subject] = length_outliers_means\n",
    "        subject_outliers_stds[subject] = length_outliers_stds\n",
    "\n",
    "    \n",
    "    metric_outliers_means[metric] = subject_outliers_means\n",
    "    metric_outliers_stds[metric] = subject_outliers_stds\n",
    "    \n",
    "print(metric_outliers_means)\n",
    "print(metric_outliers_stds)"
   ]
  },
  {
   "cell_type": "code",
   "execution_count": null,
   "id": "111a8bee-6264-41c6-9639-dbaeef2e1d16",
   "metadata": {},
   "outputs": [],
   "source": []
  }
 ],
 "metadata": {
  "kernelspec": {
   "display_name": "Python 3 (ipykernel)",
   "language": "python",
   "name": "python3"
  },
  "language_info": {
   "codemirror_mode": {
    "name": "ipython",
    "version": 3
   },
   "file_extension": ".py",
   "mimetype": "text/x-python",
   "name": "python",
   "nbconvert_exporter": "python",
   "pygments_lexer": "ipython3",
   "version": "3.11.5"
  }
 },
 "nbformat": 4,
 "nbformat_minor": 5
}
