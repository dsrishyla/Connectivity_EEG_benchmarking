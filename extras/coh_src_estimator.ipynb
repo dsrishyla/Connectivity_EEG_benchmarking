{
 "cells": [
  {
   "cell_type": "code",
   "execution_count": null,
   "id": "18016a66-1acf-4d79-ae23-8236b8838c7c",
   "metadata": {},
   "outputs": [],
   "source": []
  },
  {
   "cell_type": "code",
   "execution_count": null,
   "id": "320a2e73-f34d-4b47-84c8-b5704cf943c2",
   "metadata": {},
   "outputs": [],
   "source": [
    "## Correct intersection"
   ]
  },
  {
   "cell_type": "code",
   "execution_count": 2,
   "id": "1d787148-0c67-477a-9038-be6b08ddc179",
   "metadata": {},
   "outputs": [],
   "source": [
    "import source_estimator\n",
    "from pathlib import Path"
   ]
  },
  {
   "cell_type": "code",
   "execution_count": 6,
   "id": "6f1482e5-bf28-4b9e-8052-1c9dfe88b1ff",
   "metadata": {},
   "outputs": [
    {
     "name": "stdout",
     "output_type": "stream",
     "text": [
      "Collecting rtree\n",
      "  Obtaining dependency information for rtree from https://files.pythonhosted.org/packages/1c/a6/524326a993fad04215299e0023ed9c93b15d5bd62822d887729a90c27d52/Rtree-1.1.0-py3-none-macosx_11_0_arm64.whl.metadata\n",
      "  Downloading Rtree-1.1.0-py3-none-macosx_11_0_arm64.whl.metadata (2.8 kB)\n",
      "Downloading Rtree-1.1.0-py3-none-macosx_11_0_arm64.whl (398 kB)\n",
      "\u001b[2K   \u001b[90m━━━━━━━━━━━━━━━━━━━━━━━━━━━━━━━━━━━━━━━━\u001b[0m \u001b[32m398.2/398.2 kB\u001b[0m \u001b[31m5.0 MB/s\u001b[0m eta \u001b[36m0:00:00\u001b[0ma \u001b[36m0:00:01\u001b[0m\n",
      "\u001b[?25hInstalling collected packages: rtree\n",
      "Successfully installed rtree-1.1.0\n",
      "\n",
      "\u001b[1m[\u001b[0m\u001b[34;49mnotice\u001b[0m\u001b[1;39;49m]\u001b[0m\u001b[39;49m A new release of pip is available: \u001b[0m\u001b[31;49m23.2.1\u001b[0m\u001b[39;49m -> \u001b[0m\u001b[32;49m23.3.1\u001b[0m\n",
      "\u001b[1m[\u001b[0m\u001b[34;49mnotice\u001b[0m\u001b[1;39;49m]\u001b[0m\u001b[39;49m To update, run: \u001b[0m\u001b[32;49mpip3 install --upgrade pip\u001b[0m\n",
      "Note: you may need to restart the kernel to use updated packages.\n"
     ]
    }
   ],
   "source": [
    "pip install rtree"
   ]
  },
  {
   "cell_type": "code",
   "execution_count": 4,
   "id": "54e70e29-3aa7-4c24-b0a2-c338ef074431",
   "metadata": {},
   "outputs": [],
   "source": [
    "subjects_dir = '/Applications/freesurfer/7.4.1/subjects/inspected'"
   ]
  },
  {
   "cell_type": "code",
   "execution_count": 7,
   "id": "1e366cf7-ec7f-404b-a611-56c8bd525449",
   "metadata": {},
   "outputs": [
    {
     "name": "stdout",
     "output_type": "stream",
     "text": [
      "inner:  /Applications/freesurfer/7.4.1/subjects/inspected/sub-032508/surf/lh.pial\n",
      "outer:  /Applications/freesurfer/7.4.1/subjects/inspected/sub-032508/bem/inner_skull.surf\n",
      "The inner surface intersect the outer surface. Pushing back the outer surface 0.5 mm out of the inner surface. Saving the outer surface as /Applications/freesurfer/7.4.1/subjects/inspected/sub-032508/bem/inner_skull.surf.\n",
      "inner:  /Applications/freesurfer/7.4.1/subjects/inspected/sub-032508/surf/rh.pial\n",
      "outer:  /Applications/freesurfer/7.4.1/subjects/inspected/sub-032508/bem/inner_skull.surf\n",
      "The inner surface intersect the outer surface. Pushing back the outer surface 0.5 mm out of the inner surface. Saving the outer surface as /Applications/freesurfer/7.4.1/subjects/inspected/sub-032508/bem/inner_skull.surf.\n",
      "inner:  /Applications/freesurfer/7.4.1/subjects/inspected/sub-032508/bem/inner_skull.surf\n",
      "outer:  /Applications/freesurfer/7.4.1/subjects/inspected/sub-032508/bem/outer_skull.surf\n",
      "The inner surface intersect the outer surface. Pushing back the outer surface 0.5 mm out of the inner surface. Saving the outer surface as /Applications/freesurfer/7.4.1/subjects/inspected/sub-032508/bem/outer_skull.surf.\n",
      "inner:  /Applications/freesurfer/7.4.1/subjects/inspected/sub-032508/bem/outer_skull.surf\n",
      "outer:  /Applications/freesurfer/7.4.1/subjects/inspected/sub-032508/bem/outer_skin.surf\n",
      "The inner surface intersect the outer surface. Pushing back the outer surface 0.5 mm out of the inner surface. Saving the outer surface as /Applications/freesurfer/7.4.1/subjects/inspected/sub-032508/bem/outer_skin.surf.\n"
     ]
    },
    {
     "data": {
      "text/plain": [
       "{'lh.pial': array([0., 0., 0., ..., 0., 0., 0.]),\n",
       " 'rh.pial': array([0., 0., 0., ..., 0., 0., 0.]),\n",
       " 'inner_skull.surf': array([0., 0., 0., ..., 0., 0., 0.]),\n",
       " 'outer_skull.surf': array([0., 0., 0., ..., 0., 0., 0.])}"
      ]
     },
     "execution_count": 7,
     "metadata": {},
     "output_type": "execute_result"
    }
   ],
   "source": [
    "source_estimator.correct_intersecting_meshes(Path(subjects_dir), 'sub-032508', suffix=\"\")"
   ]
  },
  {
   "cell_type": "code",
   "execution_count": null,
   "id": "4768e4b7-d40c-46c0-9fc5-36712060c71f",
   "metadata": {},
   "outputs": [],
   "source": []
  },
  {
   "cell_type": "code",
   "execution_count": null,
   "id": "7706377e-8120-402f-af3d-3b2e9f00fb01",
   "metadata": {},
   "outputs": [],
   "source": [
    "## Calculating coh"
   ]
  },
  {
   "cell_type": "code",
   "execution_count": 4,
   "id": "9fbfb6d2-6339-49ce-9b53-ece705bfd61e",
   "metadata": {},
   "outputs": [],
   "source": [
    "import mne\n",
    "from mne.coreg import Coregistration\n",
    "from mne.minimum_norm import make_inverse_operator, apply_inverse_epochs\n",
    "import numpy as np\n",
    "from pathlib import Path\n",
    "import pandas as pd\n",
    "import os\n",
    "from pathlib import Path\n",
    "from mne_connectivity import spectral_connectivity_epochs\n",
    "import xarray as xr\n",
    "import time"
   ]
  },
  {
   "cell_type": "code",
   "execution_count": 5,
   "id": "6fde45d7-c0fc-4602-90a4-79259521bf95",
   "metadata": {},
   "outputs": [],
   "source": [
    "def filter_labels_with_vertices(labels_parc, src):\n",
    "    # Get the vertices from both hemispheres in the source space\n",
    "    src_vertices = [src[0]['vertno'], src[1]['vertno']]\n",
    "    \n",
    "    # Initialize an empty list to hold valid labels\n",
    "    valid_labels = []\n",
    "    \n",
    "    for label in labels_parc:\n",
    "        # Determine the hemisphere index: 0 for 'lh' and 1 for 'rh'\n",
    "        hemi_idx = 0 if label.hemi == 'lh' else 1\n",
    "        \n",
    "        # Check if any of the label's vertices are in the source space for that hemisphere\n",
    "        if any(v in src_vertices[hemi_idx] for v in label.vertices):\n",
    "            valid_labels.append(label)\n",
    "            \n",
    "    return valid_labels\n"
   ]
  },
  {
   "cell_type": "code",
   "execution_count": 8,
   "id": "b98b24fc-d357-4910-8074-3790ac9d8715",
   "metadata": {},
   "outputs": [],
   "source": [
    "subject = 'sub-032475'\n",
    "conditions = ['EC','EO']"
   ]
  },
  {
   "cell_type": "code",
   "execution_count": 10,
   "id": "2ffe955a-9fdf-4c75-845f-8ac03839cff8",
   "metadata": {},
   "outputs": [
    {
     "name": "stdout",
     "output_type": "stream",
     "text": [
      "Setting up the source space with the following parameters:\n",
      "\n",
      "SUBJECTS_DIR = /Applications/freesurfer/7.4.1/subjects\n",
      "Subject      = sub-032475\n",
      "Surface      = white\n",
      "Octahedron subdivision grade 6\n",
      "\n",
      ">>> 1. Creating the source space...\n",
      "\n",
      "Doing the octahedral vertex picking...\n",
      "Loading /Applications/freesurfer/7.4.1/subjects/sub-032475/surf/lh.white...\n",
      "Mapping lh sub-032475 -> oct (6) ...\n",
      "    Triangle neighbors and vertex normals...\n",
      "Loading geometry from /Applications/freesurfer/7.4.1/subjects/sub-032475/surf/lh.sphere...\n",
      "Setting up the triangulation for the decimated surface...\n",
      "loaded lh.white 4098/148881 selected to source space (oct = 6)\n",
      "\n",
      "Loading /Applications/freesurfer/7.4.1/subjects/sub-032475/surf/rh.white...\n",
      "Mapping rh sub-032475 -> oct (6) ...\n",
      "    Triangle neighbors and vertex normals...\n",
      "Loading geometry from /Applications/freesurfer/7.4.1/subjects/sub-032475/surf/rh.sphere...\n",
      "Setting up the triangulation for the decimated surface...\n",
      "loaded rh.white 4098/149162 selected to source space (oct = 6)\n",
      "\n",
      "Calculating patch information (limit=0.0 mm)...\n",
      "    Computing patch statistics...\n",
      "    Patch information added...\n",
      "    Computing patch statistics...\n",
      "    Patch information added...\n",
      "You are now one step closer to computing the gain matrix\n",
      "Reading /Users/lina_01/Downloads/eeg/sub-032475/sub-032475_EC.fdt\n",
      "    Triangle neighbors and vertex normals...\n",
      "Using low resolution head model in /Applications/freesurfer/7.4.1/subjects/sub-032475/bem/outer_skin.surf\n",
      "    Triangle neighbors and vertex normals...\n",
      "Estimating fiducials from fsaverage.\n",
      "Creating the BEM geometry...\n"
     ]
    },
    {
     "name": "stderr",
     "output_type": "stream",
     "text": [
      "/var/folders/cl/8cj5mvt51nbchvsgng871t400000gn/T/ipykernel_848/1740981872.py:4: RuntimeWarning: Data file name in EEG.data (sub-010268_EC.fdt) is incorrect, the file name must have changed on disk, using the correct file name (sub-032475_EC.fdt).\n",
      "  raw = mne.io.read_raw_eeglab(f\"/Users/lina_01/Downloads/eeg/{subject}/{subject}_{condition}.set\")\n",
      "/var/folders/cl/8cj5mvt51nbchvsgng871t400000gn/T/ipykernel_848/1740981872.py:4: RuntimeWarning: Limited 1 annotation(s) that were expanding outside the data range.\n",
      "  raw = mne.io.read_raw_eeglab(f\"/Users/lina_01/Downloads/eeg/{subject}/{subject}_{condition}.set\")\n",
      "/var/folders/cl/8cj5mvt51nbchvsgng871t400000gn/T/ipykernel_848/1740981872.py:4: RuntimeWarning: The data contains 'boundary' events, indicating data discontinuities. Be cautious of filtering and epoching around these events.\n",
      "  raw = mne.io.read_raw_eeglab(f\"/Users/lina_01/Downloads/eeg/{subject}/{subject}_{condition}.set\")\n"
     ]
    },
    {
     "name": "stdout",
     "output_type": "stream",
     "text": [
      "Going from 5th to 4th subdivision of an icosahedron (n_tri: 20480 -> 5120)\n",
      "Going from 5th to 4th subdivision of an icosahedron (n_tri: 20480 -> 5120)\n",
      "Going from 5th to 4th subdivision of an icosahedron (n_tri: 20480 -> 5120)\n",
      "outer skin  CM is   0.22 -21.49  11.67 mm\n",
      "outer skull CM is   0.24 -21.33  11.34 mm\n",
      "inner skull CM is  -0.25 -26.51  19.13 mm\n",
      "Checking that surface outer skull is inside surface outer skin  ...\n"
     ]
    },
    {
     "ename": "RuntimeError",
     "evalue": "Surface outer skull is not completely inside surface outer skin ",
     "output_type": "error",
     "traceback": [
      "\u001b[0;31m---------------------------------------------------------------------------\u001b[0m",
      "\u001b[0;31mRuntimeError\u001b[0m                              Traceback (most recent call last)",
      "Cell \u001b[0;32mIn[10], line 11\u001b[0m\n\u001b[1;32m      8\u001b[0m coreg \u001b[38;5;241m=\u001b[39m Coregistration(info, subject, subjects_dir, fiducials\u001b[38;5;241m=\u001b[39mfiducials)\n\u001b[1;32m     10\u001b[0m conductivity \u001b[38;5;241m=\u001b[39m (\u001b[38;5;241m0.3\u001b[39m, \u001b[38;5;241m0.006\u001b[39m, \u001b[38;5;241m0.3\u001b[39m)\n\u001b[0;32m---> 11\u001b[0m model \u001b[38;5;241m=\u001b[39m \u001b[43mmne\u001b[49m\u001b[38;5;241;43m.\u001b[39;49m\u001b[43mmake_bem_model\u001b[49m\u001b[43m(\u001b[49m\u001b[43msubject\u001b[49m\u001b[38;5;241;43m=\u001b[39;49m\u001b[43msubject\u001b[49m\u001b[43m,\u001b[49m\u001b[43m \u001b[49m\u001b[43mconductivity\u001b[49m\u001b[38;5;241;43m=\u001b[39;49m\u001b[43mconductivity\u001b[49m\u001b[43m,\u001b[49m\u001b[43m \u001b[49m\u001b[43msubjects_dir\u001b[49m\u001b[38;5;241;43m=\u001b[39;49m\u001b[43msubjects_dir\u001b[49m\u001b[43m)\u001b[49m\n\u001b[1;32m     12\u001b[0m bem \u001b[38;5;241m=\u001b[39m mne\u001b[38;5;241m.\u001b[39mmake_bem_solution(model)\n\u001b[1;32m     14\u001b[0m epochs \u001b[38;5;241m=\u001b[39m mne\u001b[38;5;241m.\u001b[39mmake_fixed_length_epochs(raw, duration\u001b[38;5;241m=\u001b[39m\u001b[38;5;241m1.0\u001b[39m, preload\u001b[38;5;241m=\u001b[39m\u001b[38;5;28;01mFalse\u001b[39;00m)\n",
      "File \u001b[0;32m<decorator-gen-73>:12\u001b[0m, in \u001b[0;36mmake_bem_model\u001b[0;34m(subject, ico, conductivity, subjects_dir, verbose)\u001b[0m\n",
      "File \u001b[0;32m/Applications/MNE-Python/1.5.1_0/.mne-python/lib/python3.11/site-packages/mne/bem.py:703\u001b[0m, in \u001b[0;36mmake_bem_model\u001b[0;34m(subject, ico, conductivity, subjects_dir, verbose)\u001b[0m\n\u001b[1;32m    701\u001b[0m     surfaces \u001b[38;5;241m=\u001b[39m surfaces[:\u001b[38;5;241m1\u001b[39m]\n\u001b[1;32m    702\u001b[0m     ids \u001b[38;5;241m=\u001b[39m ids[:\u001b[38;5;241m1\u001b[39m]\n\u001b[0;32m--> 703\u001b[0m surfaces \u001b[38;5;241m=\u001b[39m \u001b[43m_surfaces_to_bem\u001b[49m\u001b[43m(\u001b[49m\u001b[43msurfaces\u001b[49m\u001b[43m,\u001b[49m\u001b[43m \u001b[49m\u001b[43mids\u001b[49m\u001b[43m,\u001b[49m\u001b[43m \u001b[49m\u001b[43mconductivity\u001b[49m\u001b[43m,\u001b[49m\u001b[43m \u001b[49m\u001b[43mico\u001b[49m\u001b[43m)\u001b[49m\n\u001b[1;32m    704\u001b[0m _check_bem_size(surfaces)\n\u001b[1;32m    705\u001b[0m logger\u001b[38;5;241m.\u001b[39minfo(\u001b[38;5;124m\"\u001b[39m\u001b[38;5;124mComplete.\u001b[39m\u001b[38;5;130;01m\\n\u001b[39;00m\u001b[38;5;124m\"\u001b[39m)\n",
      "File \u001b[0;32m/Applications/MNE-Python/1.5.1_0/.mne-python/lib/python3.11/site-packages/mne/bem.py:634\u001b[0m, in \u001b[0;36m_surfaces_to_bem\u001b[0;34m(surfs, ids, sigmas, ico, rescale, incomplete, extra)\u001b[0m\n\u001b[1;32m    631\u001b[0m surfs \u001b[38;5;241m=\u001b[39m _order_surfaces(surfs)\n\u001b[1;32m    633\u001b[0m \u001b[38;5;66;03m# Check topology as best we can\u001b[39;00m\n\u001b[0;32m--> 634\u001b[0m \u001b[43m_check_surfaces\u001b[49m\u001b[43m(\u001b[49m\u001b[43msurfs\u001b[49m\u001b[43m,\u001b[49m\u001b[43m \u001b[49m\u001b[43mincomplete\u001b[49m\u001b[38;5;241;43m=\u001b[39;49m\u001b[43mincomplete\u001b[49m\u001b[43m)\u001b[49m\n\u001b[1;32m    635\u001b[0m \u001b[38;5;28;01mfor\u001b[39;00m surf \u001b[38;5;129;01min\u001b[39;00m surfs:\n\u001b[1;32m    636\u001b[0m     _check_surface_size(surf)\n",
      "File \u001b[0;32m/Applications/MNE-Python/1.5.1_0/.mne-python/lib/python3.11/site-packages/mne/bem.py:571\u001b[0m, in \u001b[0;36m_check_surfaces\u001b[0;34m(surfs, incomplete)\u001b[0m\n\u001b[1;32m    569\u001b[0m \u001b[38;5;66;03m# Then check the topology\u001b[39;00m\n\u001b[1;32m    570\u001b[0m \u001b[38;5;28;01mfor\u001b[39;00m surf_1, surf_2 \u001b[38;5;129;01min\u001b[39;00m \u001b[38;5;28mzip\u001b[39m(surfs[:\u001b[38;5;241m-\u001b[39m\u001b[38;5;241m1\u001b[39m], surfs[\u001b[38;5;241m1\u001b[39m:]):\n\u001b[0;32m--> 571\u001b[0m     \u001b[43m_assert_inside\u001b[49m\u001b[43m(\u001b[49m\u001b[43msurf_2\u001b[49m\u001b[43m,\u001b[49m\u001b[43m \u001b[49m\u001b[43msurf_1\u001b[49m\u001b[43m)\u001b[49m\n",
      "File \u001b[0;32m/Applications/MNE-Python/1.5.1_0/.mne-python/lib/python3.11/site-packages/mne/bem.py:560\u001b[0m, in \u001b[0;36m_assert_inside\u001b[0;34m(fro, to)\u001b[0m\n\u001b[1;32m    558\u001b[0m tot_angle \u001b[38;5;241m=\u001b[39m _get_solids(to[\u001b[38;5;124m\"\u001b[39m\u001b[38;5;124mrr\u001b[39m\u001b[38;5;124m\"\u001b[39m][to[\u001b[38;5;124m\"\u001b[39m\u001b[38;5;124mtris\u001b[39m\u001b[38;5;124m\"\u001b[39m]], fro[\u001b[38;5;124m\"\u001b[39m\u001b[38;5;124mrr\u001b[39m\u001b[38;5;124m\"\u001b[39m])\n\u001b[1;32m    559\u001b[0m \u001b[38;5;28;01mif\u001b[39;00m (np\u001b[38;5;241m.\u001b[39mabs(tot_angle \u001b[38;5;241m/\u001b[39m (\u001b[38;5;241m2\u001b[39m \u001b[38;5;241m*\u001b[39m np\u001b[38;5;241m.\u001b[39mpi) \u001b[38;5;241m-\u001b[39m \u001b[38;5;241m1.0\u001b[39m) \u001b[38;5;241m>\u001b[39m \u001b[38;5;241m1e-5\u001b[39m)\u001b[38;5;241m.\u001b[39many():\n\u001b[0;32m--> 560\u001b[0m     \u001b[38;5;28;01mraise\u001b[39;00m \u001b[38;5;167;01mRuntimeError\u001b[39;00m(\n\u001b[1;32m    561\u001b[0m         \u001b[38;5;124mf\u001b[39m\u001b[38;5;124m\"\u001b[39m\u001b[38;5;124mSurface \u001b[39m\u001b[38;5;132;01m{\u001b[39;00mfro_name\u001b[38;5;132;01m}\u001b[39;00m\u001b[38;5;124m is not completely inside surface \u001b[39m\u001b[38;5;132;01m{\u001b[39;00mto_name\u001b[38;5;132;01m}\u001b[39;00m\u001b[38;5;124m\"\u001b[39m\n\u001b[1;32m    562\u001b[0m     )\n",
      "\u001b[0;31mRuntimeError\u001b[0m: Surface outer skull is not completely inside surface outer skin "
     ]
    }
   ],
   "source": [
    "conditions_mats = []\n",
    "for condition in conditions:\n",
    "    src = mne.setup_source_space(subject, add_dist=\"patch\", subjects_dir=subjects_dir)\n",
    "    raw = mne.io.read_raw_eeglab(f\"/Users/lina_01/Downloads/eeg/{subject}/{subject}_{condition}.set\")\n",
    "    \n",
    "    info = raw.info\n",
    "    fiducials = \"estimated\"\n",
    "    coreg = Coregistration(info, subject, subjects_dir, fiducials=fiducials)\n",
    "    \n",
    "    conductivity = (0.3, 0.006, 0.3)\n",
    "    model = mne.make_bem_model(subject=subject, conductivity=conductivity, subjects_dir=subjects_dir)\n",
    "    bem = mne.make_bem_solution(model)\n",
    "    \n",
    "    epochs = mne.make_fixed_length_epochs(raw, duration=1.0, preload=False)\n",
    "    epochs.set_eeg_reference(projection=True)\n",
    "    epochs.apply_baseline((None,None))\n",
    "    fwd = mne.make_forward_solution(\n",
    "        epochs.info, trans=coreg.trans, src=src, bem=bem, verbose=True\n",
    "    )\n",
    "    \n",
    "    cov = mne.compute_covariance(epochs)\n",
    "    \n",
    "    inv = mne.minimum_norm.make_inverse_operator(epochs.info, fwd, cov, verbose=True)\n",
    "    \n",
    "    method = \"sLORETA\"\n",
    "    snr = 3.0\n",
    "    lambda2 = 1.0 / snr**2\n",
    "    stc = apply_inverse_epochs(\n",
    "        epochs,\n",
    "        inv,\n",
    "        lambda2,\n",
    "        method=method,\n",
    "        pick_ori=None,\n",
    "        verbose=True,\n",
    "        return_generator=False\n",
    "    )\n",
    "    \n",
    "    labels_parc = mne.read_labels_from_annot(subject, parc='aparc', subjects_dir=subjects_dir)\n",
    "    \n",
    "    filtered_labels = filter_labels_with_vertices(labels_parc, src)\n",
    "    label_ts = mne.extract_label_time_course(stc, filtered_labels, src, mode='auto', return_generator=False, allow_empty=False)\n",
    "    \n",
    "    n=len(epochs)\n",
    "\n",
    "    coh_mats=[]\n",
    "    for i in range(100):\n",
    "        inds = np.random.choice(range(n),int(n/2),replace=False)\n",
    "        mne_con = spectral_connectivity_epochs(np.array(label_ts)[inds], \n",
    "                                           method=\"coh\", sfreq=250, mode='multitaper', \n",
    "                                           fmin=8, fmax=13, fskip=0, faverage=False,\n",
    "                                           tmin=None, tmax=None, mt_bandwidth=None, mt_adaptive=False,\n",
    "                                           mt_low_bias=True, block_size=1000, n_jobs=1, verbose=None)\n",
    "        mat = np.real(mne_con.get_data(output=\"dense\"))\n",
    "        coh_mats.append(mat)\n",
    "\n",
    "    region = [label.name for label in filtered_labels]\n",
    "    frequencies = list(mne_con.freqs)\n",
    "    bootstrap_samples = list(range(100))\n",
    "\n",
    "    xarray = xr.DataArray(np.array(coh_mats), dims=[\"bootstrap_samples\",\"region1\",\"region2\",\"frequencies\"],\n",
    "    coords={\"bootstrap_samples\":bootstrap_samples,\"region1\":region, \"region2\":region,\"frequencies\":frequencies})\n",
    "    xarray.to_netcdf(f'{subject}_array_coh_{condition}.nc')"
   ]
  },
  {
   "cell_type": "code",
   "execution_count": null,
   "id": "18210c94-0e17-414a-9303-102eb64e3b94",
   "metadata": {},
   "outputs": [],
   "source": []
  },
  {
   "cell_type": "code",
   "execution_count": null,
   "id": "05bede4b-b533-4e98-947f-8aadc16ffa33",
   "metadata": {},
   "outputs": [],
   "source": []
  }
 ],
 "metadata": {
  "kernelspec": {
   "display_name": "Python 3 (ipykernel)",
   "language": "python",
   "name": "python3"
  },
  "language_info": {
   "codemirror_mode": {
    "name": "ipython",
    "version": 3
   },
   "file_extension": ".py",
   "mimetype": "text/x-python",
   "name": "python",
   "nbconvert_exporter": "python",
   "pygments_lexer": "ipython3",
   "version": "3.11.5"
  }
 },
 "nbformat": 4,
 "nbformat_minor": 5
}
