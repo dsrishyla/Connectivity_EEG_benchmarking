{
 "cells": [
  {
   "cell_type": "code",
   "execution_count": 1,
   "id": "9b08c0dc-eb15-4b1d-b3b0-c87a14d4576c",
   "metadata": {},
   "outputs": [],
   "source": [
    "import pandas as pd\n",
    "import glob\n",
    "import xarray as xr\n",
    "import numpy as np\n",
    "from statsmodels.stats.anova import AnovaRM \n",
    "from scipy import stats\n",
    "from matplotlib import pyplot as plt\n",
    "import pingouin as pg\n",
    "import numpy as np\n",
    "import seaborn as sns\n",
    "import scipy"
   ]
  },
  {
   "cell_type": "code",
   "execution_count": 2,
   "id": "9033e91a-a1f4-46c6-9a9a-1f0f1acc25b0",
   "metadata": {},
   "outputs": [],
   "source": [
    "vn = ['fusiform-rh', 'fusiform-lh', 'lingual-lh', 'lingual-rh',\n",
    "'cuneus-rh','cuneus-lh', 'lateraloccipital-rh', 'lateraloccipital-lh']\n",
    "\n",
    "methods = ['coh','ciplv','imcoh','wpli2']"
   ]
  },
  {
   "cell_type": "code",
   "execution_count": 3,
   "id": "e6468600-88f5-4467-8a47-05fd5cc4d42b",
   "metadata": {},
   "outputs": [],
   "source": [
    "#intra-subject variance\n",
    "\n",
    "intra_variance_dict = {}\n",
    "for method in methods: \n",
    "    subject_files = glob.glob(f'/Users/lina_01/Desktop/mpi_lemon/undirected_outputs/{method}/*_EC.nc')\n",
    "    mean_per_subject = []\n",
    "    for file in subject_files:\n",
    "        xarray = xr.open_dataarray(file)\n",
    "        std_mean_list = []\n",
    "        for sample in range(0,100):\n",
    "            std = xarray.sel(bootstrap_samples=sample, region1=vn, region2=vn).values.std()\n",
    "            mean = xarray.sel(bootstrap_samples=sample, region1=vn, region2=vn).values.mean()\n",
    "            std_mean_list.append(std/mean)\n",
    "        mean_per_subject.append(np.mean(std_mean_list))\n",
    "    intra_variance_dict[method] = mean_per_subject"
   ]
  },
  {
   "cell_type": "code",
   "execution_count": 56,
   "id": "a1796882-7252-4cf5-a076-fe233d1564dc",
   "metadata": {},
   "outputs": [],
   "source": [
    "#Inter-subject variance\n",
    "\n",
    "inter_variance_dict = {}\n",
    "for method in methods:\n",
    "    subject_files = glob.glob(f'/Users/lina_01/Desktop/mpi_lemon/undirected_outputs/{method}/*_EC.nc')\n",
    "    all_bootstraps = []  #list of 11200 arrays\n",
    "    for file in subject_files:\n",
    "        xarray = xr.open_dataarray(file)\n",
    "        for sample in range(0,100):\n",
    "            bootstrap = xarray.sel(bootstrap_samples=sample, region1=vn, region2=vn).values\n",
    "            all_bootstraps.append(bootstrap)\n",
    "    \n",
    "    random_bootstraps = []\n",
    "    for i in range(0,112):\n",
    "        index = np.random.choice(range(0,11200),100)\n",
    "        sample = np.array(all_bootstraps)[index,:]\n",
    "        random_bootstraps.append(sample)\n",
    "\n",
    "    mean_per_bootstrap = []\n",
    "    for sample in random_bootstraps:\n",
    "        std_mean_list = []\n",
    "        for i in range(0,100):\n",
    "            std = sample[i].std()\n",
    "            mean = sample[i].mean()\n",
    "            std_mean_list.append(std/mean)\n",
    "    \n",
    "        mean_per_bootstrap.append(np.mean(std_mean_list))\n",
    "    \n",
    "    inter_variance_dict[method] = mean_per_bootstrap"
   ]
  },
  {
   "cell_type": "code",
   "execution_count": 29,
   "id": "0ccd4b0f-af2e-4eef-94d4-64cb841607d9",
   "metadata": {},
   "outputs": [],
   "source": [
    "#comparing inter- and intra-variance for each method\n",
    "p_vals = {}\n",
    "eff_size = {}\n",
    "for method in methods:\n",
    "    p_val = stats.ranksums(inter_variance_dict[method], intra_variance_dict[method])[1]\n",
    "    \n",
    "    n1 = len(inter_variance_dict[method])\n",
    "    n2 = len(intra_variance_dict[method])\n",
    "    sd1 = np.std(inter_variance_dict[method])\n",
    "    sd2 = np.std(intra_variance_dict[method])\n",
    "\n",
    "    mean1 = np.mean(inter_variance_dict[method])\n",
    "    mean2 = np.mean(intra_variance_dict[method])\n",
    "\n",
    "    pooled_sd = np.sqrt((((n1-1)*(sd1**2))+((n2-1)*(sd2**2)))/(n1+n2-2))\n",
    "\n",
    "    cohens_d = (mean1 - mean2) / pooled_sd\n",
    "\n",
    "    p_vals[method] = p_val\n",
    "    eff_size[method] = cohens_d"
   ]
  },
  {
   "cell_type": "code",
   "execution_count": null,
   "id": "29c648d1-1d4c-4c81-8aa9-ab955a7a07d0",
   "metadata": {},
   "outputs": [],
   "source": [
    "##CHECK STATISTICAL TEST ASSUMPTIONS FOR ANOVA"
   ]
  },
  {
   "cell_type": "code",
   "execution_count": 4,
   "id": "ce62d833-2ac7-409c-8c76-3476603d0c04",
   "metadata": {},
   "outputs": [],
   "source": [
    "#outliers - INTRA\n",
    "upper_outlier_dict = {}\n",
    "lower_outlier_dict = {}\n",
    "for method in methods:\n",
    "    q1 = np.percentile(intra_variance_dict[method], 25, method='midpoint')\n",
    "    q3 = np.percentile(intra_variance_dict[method], 75, method='midpoint')\n",
    "    iqr = q3 - q1\n",
    "    upper = q3 + 1.5 * iqr\n",
    "    lower = q1 - 1.5 * iqr\n",
    "    upper_array = np.where(intra_variance_dict[method] >= upper)[0]\n",
    "    lower_array = np.where(intra_variance_dict[method] <= lower)[0]\n",
    "    upper_outlier_dict[method] = upper_array\n",
    "    lower_outlier_dict[method] = lower_array"
   ]
  },
  {
   "cell_type": "code",
   "execution_count": 34,
   "id": "f60b72c9-7244-4578-ac02-1d8f38588a21",
   "metadata": {},
   "outputs": [],
   "source": [
    "all_indices = []\n",
    "for array in upper_outlier_dict.values():\n",
    "    for i in range(len(array)):\n",
    "        if array[i] not in all_indices:\n",
    "            all_indices.append(array[i])\n",
    "\n",
    "for array in lower_outlier_dict.values():\n",
    "    for i in range(len(array)):\n",
    "        if array[i] not in all_indices:\n",
    "            all_indices.append(array[i])"
   ]
  },
  {
   "cell_type": "code",
   "execution_count": 36,
   "id": "ad222701-b42f-4ceb-a19b-a4818fbdaef1",
   "metadata": {},
   "outputs": [],
   "source": [
    "for method in methods:\n",
    "    outlier_removed = []\n",
    "    for i in range(0,112):\n",
    "        if i not in all_indices:\n",
    "            outlier_removed.append(intra_variance_dict[method][i])\n",
    "    intra_variance_dict[method] = outlier_removed"
   ]
  },
  {
   "cell_type": "code",
   "execution_count": 57,
   "id": "9416a302-223b-45e1-8089-1041cb43d3f9",
   "metadata": {},
   "outputs": [],
   "source": [
    "#outliers - INTER\n",
    "upper_outlier_dict = {}\n",
    "lower_outlier_dict = {}\n",
    "for method in methods:\n",
    "    q1 = np.percentile(inter_variance_dict[method], 25, method='midpoint')\n",
    "    q3 = np.percentile(inter_variance_dict[method], 75, method='midpoint')\n",
    "    iqr = q3 - q1\n",
    "    upper = q3 + 1.5 * iqr\n",
    "    lower = q1 - 1.5 * iqr\n",
    "    upper_array = np.where(inter_variance_dict[method] >= upper)[0]\n",
    "    lower_array = np.where(inter_variance_dict[method] <= lower)[0]\n",
    "    upper_outlier_dict[method] = upper_array\n",
    "    lower_outlier_dict[method] = lower_array"
   ]
  },
  {
   "cell_type": "code",
   "execution_count": 58,
   "id": "c3445bc2-6773-4054-8857-c4948e3bf67e",
   "metadata": {},
   "outputs": [],
   "source": [
    "all_indices = []\n",
    "for array in upper_outlier_dict.values():\n",
    "    for i in range(len(array)):\n",
    "        if array[i] not in all_indices:\n",
    "            all_indices.append(array[i])\n",
    "\n",
    "for array in lower_outlier_dict.values():\n",
    "    for i in range(len(array)):\n",
    "        if array[i] not in all_indices:\n",
    "            all_indices.append(array[i])"
   ]
  },
  {
   "cell_type": "code",
   "execution_count": 59,
   "id": "6e696a52-7c1e-4a88-9439-1ffa45f86182",
   "metadata": {},
   "outputs": [],
   "source": [
    "for method in methods:\n",
    "    outlier_removed = []\n",
    "    for i in range(0,112):\n",
    "        if i not in all_indices:\n",
    "            outlier_removed.append(inter_variance_dict[method][i])\n",
    "    inter_variance_dict[method] = outlier_removed"
   ]
  },
  {
   "cell_type": "code",
   "execution_count": null,
   "id": "08cf1e32-fa3c-4cc6-8fab-faa1b0e7a84b",
   "metadata": {},
   "outputs": [],
   "source": []
  },
  {
   "cell_type": "code",
   "execution_count": 52,
   "id": "983c0e77-b759-4ef9-946b-3d143a76e849",
   "metadata": {},
   "outputs": [
    {
     "name": "stdout",
     "output_type": "stream",
     "text": [
      "ShapiroResult(statistic=0.9846452474594116, pvalue=0.548849880695343)\n",
      "ShapiroResult(statistic=0.9871822595596313, pvalue=0.6968898773193359)\n",
      "ShapiroResult(statistic=0.9774569869041443, pvalue=0.23813951015472412)\n",
      "ShapiroResult(statistic=0.917051374912262, pvalue=0.0001960165536729619)\n"
     ]
    }
   ],
   "source": [
    "#normal distribution - INTRA\n",
    "for method in methods:\n",
    "    print(stats.shapiro(intra_variance_dict[method]))"
   ]
  },
  {
   "cell_type": "code",
   "execution_count": 60,
   "id": "8c3a2b91-732c-4667-8571-99fd788a5bf9",
   "metadata": {},
   "outputs": [
    {
     "name": "stdout",
     "output_type": "stream",
     "text": [
      "ShapiroResult(statistic=0.9875699877738953, pvalue=0.5864185690879822)\n",
      "ShapiroResult(statistic=0.9807469844818115, pvalue=0.22836020588874817)\n",
      "ShapiroResult(statistic=0.9814165234565735, pvalue=0.25258055329322815)\n",
      "ShapiroResult(statistic=0.9803737998008728, pvalue=0.2157886028289795)\n"
     ]
    }
   ],
   "source": [
    "#normal distribution - INTER\n",
    "for method in methods:\n",
    "    print(stats.shapiro(inter_variance_dict[method]))"
   ]
  },
  {
   "cell_type": "code",
   "execution_count": 12,
   "id": "a12534cb-be43-4241-9a4e-03d4a3ec3668",
   "metadata": {},
   "outputs": [
    {
     "name": "stderr",
     "output_type": "stream",
     "text": [
      "/Library/Frameworks/Python.framework/Versions/3.11/lib/python3.11/site-packages/seaborn/_oldcore.py:1119: FutureWarning: use_inf_as_na option is deprecated and will be removed in a future version. Convert inf values to NaN before operating instead.\n",
      "  with pd.option_context('mode.use_inf_as_na', True):\n"
     ]
    },
    {
     "data": {
      "text/plain": [
       "<Axes: ylabel='Count'>"
      ]
     },
     "execution_count": 12,
     "metadata": {},
     "output_type": "execute_result"
    },
    {
     "data": {
      "image/png": "[encoded data removed]",
      "text/plain": [
       "<Figure size 640x480 with 1 Axes>"
      ]
     },
     "metadata": {},
     "output_type": "display_data"
    }
   ],
   "source": [
    "sns.histplot(inter_variance_dict['wpli2'])"
   ]
  },
  {
   "cell_type": "code",
   "execution_count": 61,
   "id": "ee405ee7-fb7c-4c2c-9c0e-383accdd490a",
   "metadata": {},
   "outputs": [],
   "source": [
    "comparison_pairs = [('coh','ciplv'), ('coh','imcoh'), ('coh','wpli2'), ('ciplv','imcoh'),('ciplv','wpli2'),('imcoh','wpli2')]"
   ]
  },
  {
   "cell_type": "code",
   "execution_count": 100,
   "id": "16cb3ce0-ac82-4c89-92ed-2a9691679a61",
   "metadata": {},
   "outputs": [],
   "source": [
    "#Bootstrap T statistic - \n",
    "\n",
    "p_vals_overall = []\n",
    "\n",
    "for variance_dict in [inter_variance_dict, intra_variance_dict]:\n",
    "\n",
    "    p_val_dict = {}\n",
    "\n",
    "    for pair in comparison_pairs:\n",
    "        method1 = pair[0]\n",
    "        method2 = pair[1]\n",
    "    \n",
    "        sample_size1 = len(variance_dict[method1])\n",
    "        sample_size2 = len(variance_dict[method2])\n",
    "        total_sample_size = sample_size1 + sample_size2\n",
    "    \n",
    "        mean1 = np.mean(variance_dict[method1])\n",
    "        mean2 = np.mean(variance_dict[method2])\n",
    "        \n",
    "        sd1 = np.std(variance_dict[method1])\n",
    "        sd2 = np.std(variance_dict[method2])\n",
    "        \n",
    "        n1 = len(variance_dict[method1])\n",
    "        n2 = len(variance_dict[method2])\n",
    "        \n",
    "        pooled_sd = np.sqrt(((n1-1)*(sd1**2) + (n2-1)*(sd2**2))/(n1 + n2 - 2))\n",
    "        \n",
    "        t_orig = (mean1 - mean2)/(pooled_sd * np.sqrt((1/n1) + (1/n2)))\n",
    "    \n",
    "        pooled_sample = variance_dict[method1] + variance_dict[method2]\n",
    "    \n",
    "        bootstrap_sample1 = []\n",
    "        bootstrap_sample2 = []\n",
    "        \n",
    "        for i in range(1000):\n",
    "            sample1 = []\n",
    "            sample2 = []\n",
    "            index1 = np.random.choice(range(0,total_sample_size),sample_size1)\n",
    "            index2 = np.random.choice(range(0,total_sample_size),sample_size2)\n",
    "            sample1 = np.array(pooled_sample)[index1]\n",
    "            sample2 = np.array(pooled_sample)[index2]\n",
    "            bootstrap_sample1.append(sample1)\n",
    "            bootstrap_sample2.append(sample2)\n",
    "\n",
    "        bootstrap_t_stats = []\n",
    "        for i in range(1000):\n",
    "            mean1 = np.mean(bootstrap_sample1[i])\n",
    "            mean2 = np.mean(bootstrap_sample2[i])\n",
    "            \n",
    "            sd1 = np.std(bootstrap_sample1[i])\n",
    "            sd2 = np.std(bootstrap_sample2[i])\n",
    "            \n",
    "            n1 = len(bootstrap_sample1[i])\n",
    "            n2 = len(bootstrap_sample2[i])\n",
    "            \n",
    "            pooled_sd = np.sqrt(((n1-1)*(sd1**2) + (n2-1)*(sd2**2))/(n1 + n2 - 2))\n",
    "            \n",
    "            t = (mean1 - mean2)/(pooled_sd * np.sqrt((1/n1) + (1/n2)))\n",
    "        \n",
    "            bootstrap_t_stats.append(t)\n",
    "        \n",
    "        count = 0\n",
    "        for t in bootstrap_t_stats:\n",
    "            if t > t_orig:\n",
    "                count += 1\n",
    "        \n",
    "        p_val = count/1000\n",
    "        \n",
    "        p_val_dict[pair] = p_val\n",
    "        \n",
    "    p_vals_overall.append(p_val_dict)\n",
    "        \n"
   ]
  },
  {
   "cell_type": "code",
   "execution_count": null,
   "id": "c75d5ee9-bdfe-4d71-bc6e-dce2ece0e47c",
   "metadata": {},
   "outputs": [],
   "source": []
  },
  {
   "cell_type": "code",
   "execution_count": 94,
   "id": "ecf35a27-17c3-471c-b42a-d5b25b34078e",
   "metadata": {},
   "outputs": [],
   "source": [
    "method1 = 'coh'\n",
    "method2 = 'ciplv'\n",
    "\n",
    "sample_size1 = len(variance_dict[method1])\n",
    "sample_size2 = len(variance_dict[method2])\n",
    "total_sample_size = sample_size1 + sample_size2\n",
    "\n",
    "mean1 = np.mean(variance_dict[method1])\n",
    "mean2 = np.mean(variance_dict[method2])\n",
    "\n",
    "sd1 = np.std(variance_dict[method1])\n",
    "sd2 = np.std(variance_dict[method2])\n",
    "\n",
    "n1 = len(variance_dict[method1])\n",
    "n2 = len(variance_dict[method2])\n",
    "\n",
    "pooled_sd = np.sqrt(((n1-1)*(sd1**2) + (n2-1)*(sd2**2))/(n1 + n2 - 2))\n",
    "\n",
    "t_orig = (mean1 - mean2)/(pooled_sd * np.sqrt((1/n1) + (1/n2)))"
   ]
  },
  {
   "cell_type": "code",
   "execution_count": 95,
   "id": "e6565601-8d96-4a13-beab-533e094b72c7",
   "metadata": {},
   "outputs": [
    {
     "data": {
      "text/plain": [
       "1.7556122193485777"
      ]
     },
     "execution_count": 95,
     "metadata": {},
     "output_type": "execute_result"
    }
   ],
   "source": [
    "t_orig"
   ]
  },
  {
   "cell_type": "code",
   "execution_count": 96,
   "id": "4feab3d1-2b25-457d-8f87-6fabf8a191f9",
   "metadata": {},
   "outputs": [],
   "source": [
    "pooled_sample = variance_dict[method1] + variance_dict[method2]\n",
    "    \n",
    "bootstrap_sample1 = []\n",
    "bootstrap_sample2 = []\n",
    "\n",
    "for i in range(1000):\n",
    "    sample1 = []\n",
    "    sample2 = []\n",
    "    index1 = np.random.choice(range(0,total_sample_size),sample_size1)\n",
    "    index2 = np.random.choice(range(0,total_sample_size),sample_size2)\n",
    "    sample1 = np.array(pooled_sample)[index1]\n",
    "    sample2 = np.array(pooled_sample)[index2]\n",
    "    bootstrap_sample1.append(sample1)\n",
    "    bootstrap_sample2.append(sample2)"
   ]
  },
  {
   "cell_type": "code",
   "execution_count": 97,
   "id": "56a90f78-13ae-43c6-b214-2ff1999eb817",
   "metadata": {},
   "outputs": [],
   "source": [
    "bootstrap_t_stats = []\n",
    "for i in range(1000):\n",
    "    mean1 = np.mean(bootstrap_sample1[i])\n",
    "    mean2 = np.mean(bootstrap_sample2[i])\n",
    "    \n",
    "    sd1 = np.std(bootstrap_sample1[i])\n",
    "    sd2 = np.std(bootstrap_sample2[i])\n",
    "    \n",
    "    n1 = len(bootstrap_sample1[i])\n",
    "    n2 = len(bootstrap_sample2[i])\n",
    "    \n",
    "    pooled_sd = np.sqrt(((n1-1)*(sd1**2) + (n2-1)*(sd2**2))/(n1 + n2 - 2))\n",
    "    \n",
    "    t = (mean1 - mean2)/(pooled_sd * np.sqrt((1/n1) + (1/n2)))\n",
    "\n",
    "    bootstrap_t_stats.append(t)"
   ]
  },
  {
   "cell_type": "code",
   "execution_count": 98,
   "id": "e2862b20-dc0e-42ed-9e30-27959c8be8c9",
   "metadata": {},
   "outputs": [],
   "source": [
    "count = 0\n",
    "for t in bootstrap_t_stats:\n",
    "    if t > t_orig:\n",
    "        count += 1\n",
    "\n",
    "p_val = count/1000"
   ]
  },
  {
   "cell_type": "code",
   "execution_count": 99,
   "id": "bf42719e-c483-4004-b4a5-1da994f538f0",
   "metadata": {},
   "outputs": [
    {
     "data": {
      "text/plain": [
       "0.052"
      ]
     },
     "execution_count": 99,
     "metadata": {},
     "output_type": "execute_result"
    }
   ],
   "source": [
    "p_val"
   ]
  },
  {
   "cell_type": "code",
   "execution_count": null,
   "id": "faf3de90-e36b-48df-a137-fc04b87f260e",
   "metadata": {},
   "outputs": [],
   "source": []
  }
 ],
 "metadata": {
  "kernelspec": {
   "display_name": "Python 3 (ipykernel)",
   "language": "python",
   "name": "python3"
  },
  "language_info": {
   "codemirror_mode": {
    "name": "ipython",
    "version": 3
   },
   "file_extension": ".py",
   "mimetype": "text/x-python",
   "name": "python",
   "nbconvert_exporter": "python",
   "pygments_lexer": "ipython3",
   "version": "3.11.5"
  }
 },
 "nbformat": 4,
 "nbformat_minor": 5
}
