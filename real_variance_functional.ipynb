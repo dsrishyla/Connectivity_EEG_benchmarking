{
 "cells": [
  {
   "cell_type": "code",
   "execution_count": 1,
   "id": "9b08c0dc-eb15-4b1d-b3b0-c87a14d4576c",
   "metadata": {},
   "outputs": [],
   "source": [
    "import pandas as pd\n",
    "import glob\n",
    "import xarray as xr\n",
    "import numpy as np\n",
    "from statsmodels.stats.anova import AnovaRM \n",
    "from scipy import stats\n",
    "from matplotlib import pyplot as plt\n",
    "import pingouin as pg\n",
    "import numpy as np\n",
    "import seaborn as sns\n",
    "import scipy"
   ]
  },
  {
   "cell_type": "code",
   "execution_count": 2,
   "id": "9033e91a-a1f4-46c6-9a9a-1f0f1acc25b0",
   "metadata": {},
   "outputs": [],
   "source": [
    "vn = ['fusiform-rh', 'fusiform-lh', 'lingual-lh', 'lingual-rh',\n",
    "'cuneus-rh','cuneus-lh', 'lateraloccipital-rh', 'lateraloccipital-lh']\n",
    "\n",
    "methods = ['coh','ciplv','imcoh','wpli2']"
   ]
  },
  {
   "cell_type": "code",
   "execution_count": 23,
   "id": "e6468600-88f5-4467-8a47-05fd5cc4d42b",
   "metadata": {},
   "outputs": [],
   "source": [
    "#assembling variance dictionaries\n",
    "\n",
    "inter_variance_dict = {}\n",
    "intra_variance_dict = {}\n",
    "\n",
    "intra_upper_outlier_dict = {}\n",
    "intra_lower_outlier_dict = {}\n",
    "\n",
    "inter_upper_outlier_dict = {}\n",
    "inter_lower_outlier_dict = {}\n",
    "\n",
    "for method in methods: \n",
    "    subject_files = glob.glob(f'/Users/lina_01/Desktop/mpi_lemon/undirected_outputs/{method}/*_EC.nc')\n",
    "\n",
    "    #intra\n",
    "    \n",
    "    mean_per_subject = []\n",
    "    for file in subject_files:\n",
    "        xarray = xr.open_dataarray(file)\n",
    "        std_mean_list = []\n",
    "        for sample in range(0,100):\n",
    "            std = xarray.sel(bootstrap_samples=sample, region1=vn, region2=vn).values.std()\n",
    "            mean = xarray.sel(bootstrap_samples=sample, region1=vn, region2=vn).values.mean()\n",
    "            std_mean_list.append(std/mean)\n",
    "        mean_per_subject.append(np.mean(std_mean_list))\n",
    "    intra_variance_dict[method] = mean_per_subject\n",
    "\n",
    "    #outliers - INTRA\n",
    "    \n",
    "    q1 = np.percentile(intra_variance_dict[method], 25, method='midpoint')\n",
    "    q3 = np.percentile(intra_variance_dict[method], 75, method='midpoint')\n",
    "    iqr = q3 - q1\n",
    "    upper = q3 + 1.5 * iqr\n",
    "    lower = q1 - 1.5 * iqr\n",
    "    upper_array = np.where(intra_variance_dict[method] >= upper)[0]\n",
    "    lower_array = np.where(intra_variance_dict[method] <= lower)[0]\n",
    "    intra_upper_outlier_dict[method] = upper_array\n",
    "    intra_lower_outlier_dict[method] = lower_array\n",
    "    \n",
    "    #inter\n",
    "    \n",
    "    all_bootstraps = []  #list of 11200 arrays\n",
    "    for file in subject_files:\n",
    "        xarray = xr.open_dataarray(file)\n",
    "        for sample in range(0,100):\n",
    "            bootstrap = xarray.sel(bootstrap_samples=sample, region1=vn, region2=vn).values\n",
    "            all_bootstraps.append(bootstrap)\n",
    "    \n",
    "    random_bootstraps = []\n",
    "    for i in range(0,112):\n",
    "        index = np.random.choice(range(0,11200),100)\n",
    "        sample = np.array(all_bootstraps)[index,:]\n",
    "        random_bootstraps.append(sample)\n",
    "\n",
    "    mean_per_bootstrap = []\n",
    "    for sample in random_bootstraps:\n",
    "        std_mean_list = []\n",
    "        for i in range(0,100):\n",
    "            std = sample[i].std()\n",
    "            mean = sample[i].mean()\n",
    "            std_mean_list.append(std/mean)\n",
    "    \n",
    "        mean_per_bootstrap.append(np.mean(std_mean_list))\n",
    "    \n",
    "    inter_variance_dict[method] = mean_per_bootstrap\n",
    "\n",
    "    #outlier indices - INTER\n",
    "    \n",
    "    q1 = np.percentile(intra_variance_dict[method], 25, method='midpoint')\n",
    "    q3 = np.percentile(intra_variance_dict[method], 75, method='midpoint')\n",
    "    iqr = q3 - q1\n",
    "    upper = q3 + 1.5 * iqr\n",
    "    lower = q1 - 1.5 * iqr\n",
    "    upper_array = np.where(inter_variance_dict[method] >= upper)[0]\n",
    "    lower_array = np.where(inter_variance_dict[method] <= lower)[0]\n",
    "    inter_upper_outlier_dict[method] = upper_array\n",
    "    inter_lower_outlier_dict[method] = lower_array\n",
    "\n",
    "#removing outliers - inter\n",
    "\n",
    "for method in methods:\n",
    "    \n",
    "    all_outlier_indices = []\n",
    "    \n",
    "    for index in inter_upper_outlier_dict[method]:\n",
    "        if index not in all_outlier_indices:\n",
    "            all_outlier_indices.append(index)\n",
    "\n",
    "    for index in inter_lower_outlier_dict[method]:\n",
    "        if index not in all_outlier_indices:\n",
    "            all_outlier_indices.append(index)\n",
    "            \n",
    "    outlier_removed = []\n",
    "    \n",
    "    for i in range(0,112):\n",
    "        if i not in all_outlier_indices:\n",
    "            outlier_removed.append(inter_variance_dict[method][i])\n",
    "            \n",
    "    inter_variance_dict[method] = outlier_removed\n",
    "\n",
    "#removing outliers - intra\n",
    "\n",
    "for method in methods:\n",
    "    \n",
    "    all_outlier_indices = []\n",
    "    \n",
    "    for index in intra_upper_outlier_dict[method]:\n",
    "        if index not in all_outlier_indices:\n",
    "            all_outlier_indices.append(index)\n",
    "\n",
    "    for index in intra_lower_outlier_dict[method]:\n",
    "        if index not in all_outlier_indices:\n",
    "            all_outlier_indices.append(index)\n",
    "            \n",
    "    outlier_removed = []\n",
    "    \n",
    "    for i in range(0,112):\n",
    "        if i not in all_outlier_indices:\n",
    "            outlier_removed.append(intra_variance_dict[method][i])\n",
    "            \n",
    "    intra_variance_dict[method] = outlier_removed\n",
    "    "
   ]
  },
  {
   "cell_type": "code",
   "execution_count": 39,
   "id": "29c648d1-1d4c-4c81-8aa9-ab955a7a07d0",
   "metadata": {},
   "outputs": [
    {
     "name": "stdout",
     "output_type": "stream",
     "text": [
      "coh 112\n",
      "ciplv 112\n",
      "imcoh 96\n",
      "wpli2 84\n"
     ]
    }
   ],
   "source": [
    "##CHECK SAMPLE SIZES OF DICTIONARIES\n",
    "for method in methods:\n",
    "    print(method, len(inter_variance_dict[method]))"
   ]
  },
  {
   "cell_type": "code",
   "execution_count": 38,
   "id": "918d67cc-887b-4819-a64f-7e57b5421a76",
   "metadata": {},
   "outputs": [
    {
     "name": "stdout",
     "output_type": "stream",
     "text": [
      "coh 109\n",
      "ciplv 106\n",
      "imcoh 95\n",
      "wpli2 93\n"
     ]
    }
   ],
   "source": [
    "## CHECK SAMPLE SIZES OF DICTIONARIES\n",
    "for method in methods:\n",
    "    print(method, len(intra_variance_dict[method]))"
   ]
  },
  {
   "cell_type": "code",
   "execution_count": null,
   "id": "18f39cf8-fc79-4bea-856c-a1b823148b3f",
   "metadata": {},
   "outputs": [],
   "source": [
    "#BOOTSTRAP T STATISTIC TO COMPARE INTER- AND INTRA- VARIANCE DICTIONARIES (UNEQUAL SAMPLES)"
   ]
  },
  {
   "cell_type": "code",
   "execution_count": 49,
   "id": "82e7ddff-c040-48d8-9a60-db9a7a357cba",
   "metadata": {},
   "outputs": [],
   "source": [
    "p_val_dict = {}\n",
    "\n",
    "for method in methods:\n",
    "    \n",
    "    #calculate original t statistic\n",
    "    mean1 = np.mean(inter_variance_dict[method])\n",
    "    mean2 = np.mean(intra_variance_dict[method])\n",
    "    \n",
    "    sd1 = np.std(inter_variance_dict[method])\n",
    "    sd2 = np.std(intra_variance_dict[method])\n",
    "    \n",
    "    #calculate length of inter\n",
    "    n1 = len(inter_variance_dict[method])\n",
    "    \n",
    "    #calculate length of intra\n",
    "    n2 = len(intra_variance_dict[method])\n",
    "    \n",
    "    #calculate total n\n",
    "    total_n = n1 + n2\n",
    "    \n",
    "    pooled_sd = np.sqrt(((n1-1)*(sd1**2) + (n2-1)*(sd2**2))/(n1 + n2 - 2))\n",
    "    \n",
    "    t_orig = (mean1 - mean2)/(pooled_sd * np.sqrt((1/n1) + (1/n2)))\n",
    "    \n",
    "    #create pooled sample\n",
    "    pooled_sample = inter_variance_dict[method] + intra_variance_dict[method]\n",
    "    \n",
    "    ####################################################\n",
    "    #sample from pooled 1000 times\n",
    "    bootstrap_sample1 = []\n",
    "    bootstrap_sample2 = []\n",
    "    \n",
    "    for i in range(1000):\n",
    "        sample1 = []\n",
    "        sample2 = []\n",
    "        index1 = np.random.choice(range(0,total_n),n1)\n",
    "        index2 = np.random.choice(range(0,total_n),n2)\n",
    "        sample1 = np.array(pooled_sample)[index1]\n",
    "        sample2 = np.array(pooled_sample)[index2]\n",
    "        bootstrap_sample1.append(sample1)\n",
    "        bootstrap_sample2.append(sample2)\n",
    "        \n",
    "    #calculate the t-statistic in each\n",
    "    bootstrap_t_stats = []\n",
    "    for i in range(1000):\n",
    "        mean1 = np.mean(bootstrap_sample1[i])\n",
    "        mean2 = np.mean(bootstrap_sample2[i])\n",
    "        \n",
    "        sd1 = np.std(bootstrap_sample1[i])\n",
    "        sd2 = np.std(bootstrap_sample2[i])\n",
    "        \n",
    "        n1 = len(bootstrap_sample1[i])\n",
    "        n2 = len(bootstrap_sample2[i])\n",
    "        \n",
    "        pooled_sd = np.sqrt(((n1-1)*(sd1**2) + (n2-1)*(sd2**2))/(n1 + n2 - 2))\n",
    "        \n",
    "        t = (mean1 - mean2)/(pooled_sd * np.sqrt((1/n1) + (1/n2)))\n",
    "    \n",
    "        bootstrap_t_stats.append(t)\n",
    "    \n",
    "    count = 0\n",
    "    for t in bootstrap_t_stats:\n",
    "        if t > t_orig:\n",
    "            count += 1\n",
    "\n",
    "    p_val = count/1000\n",
    "    p_val_corr = p_val * 4\n",
    "    p_val_dict[method] = p_val_corr"
   ]
  },
  {
   "cell_type": "code",
   "execution_count": 50,
   "id": "dadeed2e-7907-4dfe-9ef4-a60feec9f7a8",
   "metadata": {},
   "outputs": [
    {
     "data": {
      "text/plain": [
       "{'coh': 0.568, 'ciplv': 0.708, 'imcoh': 3.664, 'wpli2': 0.924}"
      ]
     },
     "execution_count": 50,
     "metadata": {},
     "output_type": "execute_result"
    }
   ],
   "source": [
    "p_val_dict"
   ]
  },
  {
   "cell_type": "code",
   "execution_count": null,
   "id": "0c9ec760-7c59-4f36-ad89-d34e81f0e034",
   "metadata": {},
   "outputs": [],
   "source": [
    "#STATISTICAL TESTING FOR DIFFERENCE IN VARIANCE BETWEEN INTER-VARIANCE-DICTIONARIES AND INTRA-VARIANCE DICTIONARIES"
   ]
  },
  {
   "cell_type": "code",
   "execution_count": null,
   "id": "0eed6c22-0ab1-4412-bba1-073aa3515d14",
   "metadata": {},
   "outputs": [],
   "source": [
    "#BOOTSTRAP T STATISTIC (UNEQUAL SAMPLES)"
   ]
  },
  {
   "cell_type": "code",
   "execution_count": 40,
   "id": "ee405ee7-fb7c-4c2c-9c0e-383accdd490a",
   "metadata": {},
   "outputs": [],
   "source": [
    "comparison_pairs = [('coh','ciplv'), ('coh','imcoh'), ('coh','wpli2'), ('ciplv','imcoh'),('ciplv','wpli2'),('imcoh','wpli2')]"
   ]
  },
  {
   "cell_type": "code",
   "execution_count": 47,
   "id": "16cb3ce0-ac82-4c89-92ed-2a9691679a61",
   "metadata": {},
   "outputs": [],
   "source": [
    "p_vals_overall = []\n",
    "\n",
    "for variance_dict in [inter_variance_dict, intra_variance_dict]:\n",
    "\n",
    "    p_val_dict = {}\n",
    "\n",
    "    for pair in comparison_pairs:\n",
    "        method1 = pair[0]\n",
    "        method2 = pair[1]\n",
    "    \n",
    "        sample_size1 = len(variance_dict[method1])\n",
    "        sample_size2 = len(variance_dict[method2])\n",
    "        total_sample_size = sample_size1 + sample_size2\n",
    "    \n",
    "        mean1 = np.mean(variance_dict[method1])\n",
    "        mean2 = np.mean(variance_dict[method2])\n",
    "        \n",
    "        sd1 = np.std(variance_dict[method1])\n",
    "        sd2 = np.std(variance_dict[method2])\n",
    "        \n",
    "        n1 = len(variance_dict[method1])\n",
    "        n2 = len(variance_dict[method2])\n",
    "        \n",
    "        pooled_sd = np.sqrt(((n1-1)*(sd1**2) + (n2-1)*(sd2**2))/(n1 + n2 - 2))\n",
    "        \n",
    "        t_orig = (mean1 - mean2)/(pooled_sd * np.sqrt((1/n1) + (1/n2)))\n",
    "    \n",
    "        pooled_sample = variance_dict[method1] + variance_dict[method2]\n",
    "    \n",
    "        bootstrap_sample1 = []\n",
    "        bootstrap_sample2 = []\n",
    "        \n",
    "        for i in range(1000):\n",
    "            sample1 = []\n",
    "            sample2 = []\n",
    "            index1 = np.random.choice(range(0,total_sample_size),sample_size1)\n",
    "            index2 = np.random.choice(range(0,total_sample_size),sample_size2)\n",
    "            sample1 = np.array(pooled_sample)[index1]\n",
    "            sample2 = np.array(pooled_sample)[index2]\n",
    "            bootstrap_sample1.append(sample1)\n",
    "            bootstrap_sample2.append(sample2)\n",
    "\n",
    "        bootstrap_t_stats = []\n",
    "        for i in range(1000):\n",
    "            mean1 = np.mean(bootstrap_sample1[i])\n",
    "            mean2 = np.mean(bootstrap_sample2[i])\n",
    "            \n",
    "            sd1 = np.std(bootstrap_sample1[i])\n",
    "            sd2 = np.std(bootstrap_sample2[i])\n",
    "            \n",
    "            n1 = len(bootstrap_sample1[i])\n",
    "            n2 = len(bootstrap_sample2[i])\n",
    "            \n",
    "            pooled_sd = np.sqrt(((n1-1)*(sd1**2) + (n2-1)*(sd2**2))/(n1 + n2 - 2))\n",
    "            \n",
    "            t = (mean1 - mean2)/(pooled_sd * np.sqrt((1/n1) + (1/n2)))\n",
    "        \n",
    "            bootstrap_t_stats.append(t)\n",
    "        \n",
    "        count = 0\n",
    "        for t in bootstrap_t_stats:\n",
    "            if t > t_orig:\n",
    "                count += 1\n",
    "        \n",
    "        p_val = count/1000\n",
    "\n",
    "        p_val_corr = p_val * 12 #(bonferroni correction)\n",
    "        \n",
    "        p_val_dict[pair] = p_val_corr\n",
    "        \n",
    "    p_vals_overall.append(p_val_dict)\n",
    "        \n"
   ]
  },
  {
   "cell_type": "code",
   "execution_count": 48,
   "id": "c75d5ee9-bdfe-4d71-bc6e-dce2ece0e47c",
   "metadata": {},
   "outputs": [
    {
     "data": {
      "text/plain": [
       "[{('coh', 'ciplv'): 0.0,\n",
       "  ('coh', 'imcoh'): 0.0,\n",
       "  ('coh', 'wpli2'): 12.0,\n",
       "  ('ciplv', 'imcoh'): 0.0,\n",
       "  ('ciplv', 'wpli2'): 12.0,\n",
       "  ('imcoh', 'wpli2'): 12.0},\n",
       " {('coh', 'ciplv'): 1.62,\n",
       "  ('coh', 'imcoh'): 1.7999999999999998,\n",
       "  ('coh', 'wpli2'): 12.0,\n",
       "  ('ciplv', 'imcoh'): 2.292,\n",
       "  ('ciplv', 'wpli2'): 12.0,\n",
       "  ('imcoh', 'wpli2'): 11.783999999999999}]"
      ]
     },
     "execution_count": 48,
     "metadata": {},
     "output_type": "execute_result"
    }
   ],
   "source": [
    "p_vals_overall"
   ]
  },
  {
   "cell_type": "code",
   "execution_count": null,
   "id": "3ddb14e6-76e2-4471-a859-3bf2acbaeaf8",
   "metadata": {},
   "outputs": [],
   "source": [
    "#EXAMINING DISTRIBUTIONS TO UNDERSTAND SIGNIFICANCE"
   ]
  },
  {
   "cell_type": "code",
   "execution_count": 67,
   "id": "a1e2a4da-ea4a-4d8d-83b6-da701ff78fa9",
   "metadata": {},
   "outputs": [
    {
     "name": "stdout",
     "output_type": "stream",
     "text": [
      "coh [<Axes: > <Axes: >]\n",
      "ciplv [<Axes: > <Axes: >]\n"
     ]
    }
   ],
   "source": [
    "for method, ax in list(zip(methods,axes)):\n",
    "    print(method,ax)\n",
    "    "
   ]
  },
  {
   "cell_type": "code",
   "execution_count": 66,
   "id": "c4ddcec4-f355-4400-9027-adc267c394f8",
   "metadata": {},
   "outputs": [
    {
     "ename": "AttributeError",
     "evalue": "'list' object has no attribute 'xaxis'",
     "output_type": "error",
     "traceback": [
      "\u001b[0;31m---------------------------------------------------------------------------\u001b[0m",
      "\u001b[0;31mAttributeError\u001b[0m                            Traceback (most recent call last)",
      "Cell \u001b[0;32mIn[66], line 4\u001b[0m\n\u001b[1;32m      2\u001b[0m fig, axes \u001b[38;5;241m=\u001b[39m plt\u001b[38;5;241m.\u001b[39msubplots(\u001b[38;5;241m2\u001b[39m,\u001b[38;5;241m2\u001b[39m)\n\u001b[1;32m      3\u001b[0m \u001b[38;5;28;01mfor\u001b[39;00m method, ax \u001b[38;5;129;01min\u001b[39;00m \u001b[38;5;28mlist\u001b[39m(\u001b[38;5;28mzip\u001b[39m(methods,[[\u001b[38;5;241m0\u001b[39m,\u001b[38;5;241m0\u001b[39m],[\u001b[38;5;241m0\u001b[39m,\u001b[38;5;241m1\u001b[39m],[\u001b[38;5;241m1\u001b[39m,\u001b[38;5;241m0\u001b[39m],[\u001b[38;5;241m1\u001b[39m,\u001b[38;5;241m1\u001b[39m]])):\n\u001b[0;32m----> 4\u001b[0m     \u001b[43msns\u001b[49m\u001b[38;5;241;43m.\u001b[39;49m\u001b[43mkdeplot\u001b[49m\u001b[43m(\u001b[49m\u001b[43minter_variance_dict\u001b[49m\u001b[43m[\u001b[49m\u001b[43mmethod\u001b[49m\u001b[43m]\u001b[49m\u001b[43m,\u001b[49m\u001b[43m \u001b[49m\u001b[43max\u001b[49m\u001b[38;5;241;43m=\u001b[39;49m\u001b[43max\u001b[49m\u001b[43m)\u001b[49m\n\u001b[1;32m      5\u001b[0m     sns\u001b[38;5;241m.\u001b[39mkdeplot(intra_variance_dict[method], ax\u001b[38;5;241m=\u001b[39max)\n",
      "File \u001b[0;32m/Library/Frameworks/Python.framework/Versions/3.11/lib/python3.11/site-packages/seaborn/distributions.py:1695\u001b[0m, in \u001b[0;36mkdeplot\u001b[0;34m(data, x, y, hue, weights, palette, hue_order, hue_norm, color, fill, multiple, common_norm, common_grid, cumulative, bw_method, bw_adjust, warn_singular, log_scale, levels, thresh, gridsize, cut, clip, legend, cbar, cbar_ax, cbar_kws, ax, **kwargs)\u001b[0m\n\u001b[1;32m   1692\u001b[0m \u001b[38;5;28;01mif\u001b[39;00m ax \u001b[38;5;129;01mis\u001b[39;00m \u001b[38;5;28;01mNone\u001b[39;00m:\n\u001b[1;32m   1693\u001b[0m     ax \u001b[38;5;241m=\u001b[39m plt\u001b[38;5;241m.\u001b[39mgca()\n\u001b[0;32m-> 1695\u001b[0m \u001b[43mp\u001b[49m\u001b[38;5;241;43m.\u001b[39;49m\u001b[43m_attach\u001b[49m\u001b[43m(\u001b[49m\u001b[43max\u001b[49m\u001b[43m,\u001b[49m\u001b[43m \u001b[49m\u001b[43mallowed_types\u001b[49m\u001b[38;5;241;43m=\u001b[39;49m\u001b[43m[\u001b[49m\u001b[38;5;124;43m\"\u001b[39;49m\u001b[38;5;124;43mnumeric\u001b[39;49m\u001b[38;5;124;43m\"\u001b[39;49m\u001b[43m,\u001b[49m\u001b[43m \u001b[49m\u001b[38;5;124;43m\"\u001b[39;49m\u001b[38;5;124;43mdatetime\u001b[39;49m\u001b[38;5;124;43m\"\u001b[39;49m\u001b[43m]\u001b[49m\u001b[43m,\u001b[49m\u001b[43m \u001b[49m\u001b[43mlog_scale\u001b[49m\u001b[38;5;241;43m=\u001b[39;49m\u001b[43mlog_scale\u001b[49m\u001b[43m)\u001b[49m\n\u001b[1;32m   1697\u001b[0m method \u001b[38;5;241m=\u001b[39m ax\u001b[38;5;241m.\u001b[39mfill_between \u001b[38;5;28;01mif\u001b[39;00m fill \u001b[38;5;28;01melse\u001b[39;00m ax\u001b[38;5;241m.\u001b[39mplot\n\u001b[1;32m   1698\u001b[0m color \u001b[38;5;241m=\u001b[39m _default_color(method, hue, color, kwargs)\n",
      "File \u001b[0;32m/Library/Frameworks/Python.framework/Versions/3.11/lib/python3.11/site-packages/seaborn/_oldcore.py:1228\u001b[0m, in \u001b[0;36mVectorPlotter._attach\u001b[0;34m(self, obj, allowed_types, log_scale)\u001b[0m\n\u001b[1;32m   1224\u001b[0m \u001b[38;5;66;03m# Simplest cases are that we have a single axes, all axes are shared,\u001b[39;00m\n\u001b[1;32m   1225\u001b[0m \u001b[38;5;66;03m# or sharing is only on the orthogonal facet dimension. In these cases,\u001b[39;00m\n\u001b[1;32m   1226\u001b[0m \u001b[38;5;66;03m# all datapoints get converted the same way, so use the first axis\u001b[39;00m\n\u001b[1;32m   1227\u001b[0m \u001b[38;5;28;01mif\u001b[39;00m share_state \u001b[38;5;129;01mis\u001b[39;00m \u001b[38;5;28;01mTrue\u001b[39;00m \u001b[38;5;129;01mor\u001b[39;00m share_state \u001b[38;5;241m==\u001b[39m facet_dim[other_var]:\n\u001b[0;32m-> 1228\u001b[0m     converter\u001b[38;5;241m.\u001b[39mloc[:] \u001b[38;5;241m=\u001b[39m \u001b[38;5;28mgetattr\u001b[39m(ax_list[\u001b[38;5;241m0\u001b[39m], \u001b[38;5;124mf\u001b[39m\u001b[38;5;124m\"\u001b[39m\u001b[38;5;132;01m{\u001b[39;00mvar\u001b[38;5;132;01m}\u001b[39;00m\u001b[38;5;124maxis\u001b[39m\u001b[38;5;124m\"\u001b[39m)\n\u001b[1;32m   1230\u001b[0m \u001b[38;5;28;01melse\u001b[39;00m:\n\u001b[1;32m   1231\u001b[0m \n\u001b[1;32m   1232\u001b[0m     \u001b[38;5;66;03m# Next simplest case is when no axes are shared, and we can\u001b[39;00m\n\u001b[1;32m   1233\u001b[0m     \u001b[38;5;66;03m# use the axis objects within each facet\u001b[39;00m\n\u001b[1;32m   1234\u001b[0m     \u001b[38;5;28;01mif\u001b[39;00m share_state \u001b[38;5;129;01mis\u001b[39;00m \u001b[38;5;28;01mFalse\u001b[39;00m:\n",
      "\u001b[0;31mAttributeError\u001b[0m: 'list' object has no attribute 'xaxis'"
     ]
    },
    {
     "data": {
      "image/png": "[encoded data removed]",
      "text/plain": [
       "<Figure size 640x480 with 4 Axes>"
      ]
     },
     "metadata": {},
     "output_type": "display_data"
    }
   ],
   "source": [
    "#4-panel figure to show inter vs intra differences for each method\n",
    "fig, axes = plt.subplots(2,2)\n",
    "for method, ax in list(zip(methods,[])):\n",
    "    sns.kdeplot(inter_variance_dict[method], ax=axes[ax])\n",
    "    sns.kdeplot(intra_variance_dict[method], ax=ax)"
   ]
  },
  {
   "cell_type": "code",
   "execution_count": null,
   "id": "64c8561a-a0fd-4d20-b6f3-997a7823bf90",
   "metadata": {},
   "outputs": [],
   "source": [
    "#1 figure to show inter variance distribution with inlaid panel"
   ]
  },
  {
   "cell_type": "code",
   "execution_count": null,
   "id": "9c6b559f-3b4e-4406-a986-69fcbadb2d1f",
   "metadata": {},
   "outputs": [],
   "source": [
    "#1 figure to show intra variance distribution with inlaid panel"
   ]
  },
  {
   "cell_type": "code",
   "execution_count": null,
   "id": "ae71be30-c6f0-4259-b9a1-4e198927c195",
   "metadata": {},
   "outputs": [],
   "source": []
  },
  {
   "cell_type": "code",
   "execution_count": 44,
   "id": "675d62f9-7c20-497b-b80a-fc3e5958b84f",
   "metadata": {},
   "outputs": [
    {
     "name": "stderr",
     "output_type": "stream",
     "text": [
      "/Library/Frameworks/Python.framework/Versions/3.11/lib/python3.11/site-packages/seaborn/_oldcore.py:1119: FutureWarning: use_inf_as_na option is deprecated and will be removed in a future version. Convert inf values to NaN before operating instead.\n",
      "  with pd.option_context('mode.use_inf_as_na', True):\n",
      "/Library/Frameworks/Python.framework/Versions/3.11/lib/python3.11/site-packages/seaborn/_oldcore.py:1119: FutureWarning: use_inf_as_na option is deprecated and will be removed in a future version. Convert inf values to NaN before operating instead.\n",
      "  with pd.option_context('mode.use_inf_as_na', True):\n",
      "/Library/Frameworks/Python.framework/Versions/3.11/lib/python3.11/site-packages/seaborn/_oldcore.py:1119: FutureWarning: use_inf_as_na option is deprecated and will be removed in a future version. Convert inf values to NaN before operating instead.\n",
      "  with pd.option_context('mode.use_inf_as_na', True):\n",
      "/Library/Frameworks/Python.framework/Versions/3.11/lib/python3.11/site-packages/seaborn/_oldcore.py:1119: FutureWarning: use_inf_as_na option is deprecated and will be removed in a future version. Convert inf values to NaN before operating instead.\n",
      "  with pd.option_context('mode.use_inf_as_na', True):\n"
     ]
    },
    {
     "data": {
      "text/plain": [
       "<Axes: ylabel='Count'>"
      ]
     },
     "execution_count": 44,
     "metadata": {},
     "output_type": "execute_result"
    },
    {
     "data": {
      "image/png": "[encoded data removed]",
      "text/plain": [
       "<Figure size 640x480 with 1 Axes>"
      ]
     },
     "metadata": {},
     "output_type": "display_data"
    }
   ],
   "source": [
    "sns.histplot(inter_variance_dict['coh'], fill=False)\n",
    "sns.histplot(inter_variance_dict['ciplv'],fill=False)\n",
    "sns.histplot(intra_variance_dict['imcoh'], fill=False)\n",
    "sns.histplot(intra_variance_dict['wpli2'], fill=False)"
   ]
  },
  {
   "cell_type": "code",
   "execution_count": null,
   "id": "ed97ac55-3c2e-4bcd-9bf0-0581afa83d89",
   "metadata": {},
   "outputs": [],
   "source": []
  }
 ],
 "metadata": {
  "kernelspec": {
   "display_name": "Python 3 (ipykernel)",
   "language": "python",
   "name": "python3"
  },
  "language_info": {
   "codemirror_mode": {
    "name": "ipython",
    "version": 3
   },
   "file_extension": ".py",
   "mimetype": "text/x-python",
   "name": "python",
   "nbconvert_exporter": "python",
   "pygments_lexer": "ipython3",
   "version": "3.11.5"
  }
 },
 "nbformat": 4,
 "nbformat_minor": 5
}
