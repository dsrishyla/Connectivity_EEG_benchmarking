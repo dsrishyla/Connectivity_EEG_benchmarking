{
 "cells": [
  {
   "cell_type": "code",
   "execution_count": 1,
   "id": "9b08c0dc-eb15-4b1d-b3b0-c87a14d4576c",
   "metadata": {},
   "outputs": [
    {
     "ename": "ModuleNotFoundError",
     "evalue": "No module named 'scikit_posthocs'",
     "output_type": "error",
     "traceback": [
      "\u001b[0;31m---------------------------------------------------------------------------\u001b[0m",
      "\u001b[0;31mModuleNotFoundError\u001b[0m                       Traceback (most recent call last)",
      "Cell \u001b[0;32mIn[1], line 12\u001b[0m\n\u001b[1;32m     10\u001b[0m \u001b[38;5;28;01mimport\u001b[39;00m \u001b[38;5;21;01mseaborn\u001b[39;00m \u001b[38;5;28;01mas\u001b[39;00m \u001b[38;5;21;01msns\u001b[39;00m\n\u001b[1;32m     11\u001b[0m \u001b[38;5;28;01mimport\u001b[39;00m \u001b[38;5;21;01mscipy\u001b[39;00m\n\u001b[0;32m---> 12\u001b[0m \u001b[38;5;28;01mimport\u001b[39;00m \u001b[38;5;21;01mscikit_posthocs\u001b[39;00m \u001b[38;5;28;01mas\u001b[39;00m \u001b[38;5;21;01msp\u001b[39;00m\n",
      "\u001b[0;31mModuleNotFoundError\u001b[0m: No module named 'scikit_posthocs'"
     ]
    }
   ],
   "source": [
    "import pandas as pd\n",
    "import glob\n",
    "import xarray as xr\n",
    "import numpy as np\n",
    "from statsmodels.stats.anova import AnovaRM \n",
    "from scipy import stats\n",
    "from matplotlib import pyplot as plt\n",
    "import pingouin as pg\n",
    "import numpy as np\n",
    "import seaborn as sns\n",
    "import scipy"
   ]
  },
  {
   "cell_type": "code",
   "execution_count": 2,
   "id": "9033e91a-a1f4-46c6-9a9a-1f0f1acc25b0",
   "metadata": {},
   "outputs": [],
   "source": [
    "vn = ['fusiform-rh', 'fusiform-lh', 'lingual-lh', 'lingual-rh',\n",
    "'cuneus-rh','cuneus-lh', 'lateraloccipital-rh', 'lateraloccipital-lh']\n",
    "\n",
    "methods = ['coh','ciplv','imcoh','wpli2']"
   ]
  },
  {
   "cell_type": "code",
   "execution_count": 3,
   "id": "e6468600-88f5-4467-8a47-05fd5cc4d42b",
   "metadata": {},
   "outputs": [],
   "source": [
    "#intra-subject variance\n",
    "\n",
    "intra_variance_dict = {}\n",
    "for method in methods: \n",
    "    subject_files = glob.glob(f'/Users/lina_01/Desktop/mpi_lemon/undirected_outputs/{method}/*_EC.nc')\n",
    "    variance_per_subject = []\n",
    "    for file in subject_files:\n",
    "        xarray = xr.open_dataarray(file)\n",
    "        std_mean_list = []\n",
    "        for sample in range(0,100):\n",
    "            std = xarray.sel(bootstrap_samples=sample, region1=vn, region2=vn).values.std()\n",
    "            mean = xarray.sel(bootstrap_samples=sample, region1=vn, region2=vn).values.mean()\n",
    "            std_mean_list.append(mean)\n",
    "        variance_per_subject.append(np.std(std_mean_list)**2)\n",
    "    intra_variance_dict[method] = variance_per_subject"
   ]
  },
  {
   "cell_type": "code",
   "execution_count": null,
   "id": "8a46a894-05df-4bb0-8d5a-2a132c45d8e4",
   "metadata": {},
   "outputs": [],
   "source": []
  },
  {
   "cell_type": "code",
   "execution_count": 9,
   "id": "a1796882-7252-4cf5-a076-fe233d1564dc",
   "metadata": {},
   "outputs": [],
   "source": [
    "#Inter-subject variance\n",
    "\n",
    "inter_variance_dict = {}\n",
    "for method in methods:\n",
    "    subject_files = glob.glob(f'/Users/lina_01/Desktop/mpi_lemon/undirected_outputs/{method}/*_EC.nc')\n",
    "    all_bootstraps = []  #list of 11200 arrays\n",
    "    for file in subject_files:\n",
    "        xarray = xr.open_dataarray(file)\n",
    "        for sample in range(0,100):\n",
    "            bootstrap = xarray.sel(bootstrap_samples=sample, region1=vn, region2=vn).values\n",
    "            all_bootstraps.append(bootstrap)\n",
    "    \n",
    "    random_bootstraps = []\n",
    "    for i in range(0,112):\n",
    "        index = np.random.choice(range(0,11200),100)\n",
    "        sample = np.array(all_bootstraps)[index,:]\n",
    "        random_bootstraps.append(sample)\n",
    "\n",
    "    variance_per_bootstrap = []\n",
    "    for sample in random_bootstraps:\n",
    "        variance = sample.std()\n",
    "        variance_per_bootstrap.append(variance)\n",
    "\n",
    "    inter_variance_dict[method] = variance_per_bootstrap"
   ]
  },
  {
   "cell_type": "code",
   "execution_count": null,
   "id": "74229844-8bcd-4d95-99e0-2fac65acb0bc",
   "metadata": {},
   "outputs": [],
   "source": []
  },
  {
   "cell_type": "code",
   "execution_count": null,
   "id": "05573f3e-8e19-4560-a602-d120c1a57dcd",
   "metadata": {},
   "outputs": [],
   "source": []
  },
  {
   "cell_type": "code",
   "execution_count": 10,
   "id": "0ccd4b0f-af2e-4eef-94d4-64cb841607d9",
   "metadata": {},
   "outputs": [],
   "source": [
    "#comparing inter- and intra-variance for each method\n",
    "p_vals = {}\n",
    "eff_size = {}\n",
    "for method in methods:\n",
    "    p_val = stats.ranksums(inter_variance_dict[method], intra_variance_dict[method])[1]\n",
    "    \n",
    "    n1 = len(inter_variance_dict[method])\n",
    "    n2 = len(intra_variance_dict[method])\n",
    "    sd1 = np.std(inter_variance_dict[method])\n",
    "    sd2 = np.std(intra_variance_dict[method])\n",
    "\n",
    "    mean1 = np.mean(inter_variance_dict[method])\n",
    "    mean2 = np.mean(intra_variance_dict[method])\n",
    "\n",
    "    pooled_sd = np.sqrt((((n1-1)*(sd1**2))+((n2-1)*(sd2**2)))/(n1+n2-2))\n",
    "\n",
    "    cohens_d = (mean1 - mean2) / pooled_sd\n",
    "\n",
    "    p_vals[method] = p_val\n",
    "    eff_size[method] = cohens_d"
   ]
  },
  {
   "cell_type": "code",
   "execution_count": 11,
   "id": "983c0e77-b759-4ef9-946b-3d143a76e849",
   "metadata": {},
   "outputs": [
    {
     "data": {
      "text/plain": [
       "ShapiroResult(statistic=0.5364351868629456, pvalue=3.487929475560499e-17)"
      ]
     },
     "execution_count": 11,
     "metadata": {},
     "output_type": "execute_result"
    }
   ],
   "source": [
    "##CHECK STATISTICAL TEST ASSUMPTIONS FOR ANOVA\n",
    "#normal distribution\n",
    "stats.shapiro(intra_variance_dict['coh'])"
   ]
  },
  {
   "cell_type": "code",
   "execution_count": 12,
   "id": "640a4188-b6c2-4b4b-aea4-c5fd0fa57642",
   "metadata": {},
   "outputs": [
    {
     "data": {
      "text/plain": [
       "LeveneResult(statistic=38.219632505148766, pvalue=5.478542551721322e-22)"
      ]
     },
     "execution_count": 12,
     "metadata": {},
     "output_type": "execute_result"
    }
   ],
   "source": [
    "#homogeneity of variance \n",
    "stats.levene(inter_variance_dict['wpli2'], inter_variance_dict['ciplv'], inter_variance_dict['coh'], inter_variance_dict['imcoh'])"
   ]
  },
  {
   "cell_type": "code",
   "execution_count": 13,
   "id": "d5f650c6-7d35-42cd-965c-3970c1d6af55",
   "metadata": {},
   "outputs": [
    {
     "data": {
      "text/plain": [
       "KruskalResult(statistic=417.9227094791149, pvalue=2.9024197618762464e-90)"
      ]
     },
     "execution_count": 13,
     "metadata": {},
     "output_type": "execute_result"
    }
   ],
   "source": [
    "#compare inter-variance across methods\n",
    "stats.kruskal(inter_variance_dict['coh'], inter_variance_dict['ciplv'], inter_variance_dict['imcoh'], inter_variance_dict['wpli2'])\n"
   ]
  },
  {
   "cell_type": "code",
   "execution_count": null,
   "id": "0d8ec586-5084-467a-9f90-96b062a95055",
   "metadata": {},
   "outputs": [],
   "source": []
  },
  {
   "cell_type": "code",
   "execution_count": null,
   "id": "1bffd687-8d0f-4996-af76-d1feffd2fa4f",
   "metadata": {},
   "outputs": [],
   "source": []
  },
  {
   "cell_type": "code",
   "execution_count": null,
   "id": "3ffe7ee5-2d1e-42ac-a5b7-2a2144b8e00d",
   "metadata": {},
   "outputs": [],
   "source": []
  },
  {
   "cell_type": "code",
   "execution_count": null,
   "id": "f7b96f65-c944-424f-976c-3bae10188707",
   "metadata": {},
   "outputs": [],
   "source": []
  },
  {
   "cell_type": "code",
   "execution_count": 14,
   "id": "7ec2c0cc-5391-4a8f-8be1-32407b972f8b",
   "metadata": {},
   "outputs": [
    {
     "data": {
      "text/plain": [
       "KruskalResult(statistic=214.4167505880414, pvalue=3.232772171265689e-46)"
      ]
     },
     "execution_count": 14,
     "metadata": {},
     "output_type": "execute_result"
    }
   ],
   "source": [
    "#compare intra-variance across methods\n",
    "stats.kruskal(intra_variance_dict['coh'], intra_variance_dict['ciplv'], intra_variance_dict['imcoh'], intra_variance_dict['wpli2'])\n"
   ]
  },
  {
   "cell_type": "code",
   "execution_count": 29,
   "id": "548ddafd-fee4-4c40-b5a6-2a674475b0f7",
   "metadata": {},
   "outputs": [
    {
     "data": {
      "text/plain": [
       "DunnettResult(statistic=array([ 0.61759998,  6.14165444, -5.638013  ]), pvalue=array([8.70785510e-01, 5.04115139e-09, 8.38514809e-08]))"
      ]
     },
     "execution_count": 29,
     "metadata": {},
     "output_type": "execute_result"
    }
   ],
   "source": [
    "#post-hoc 1\n",
    "stats.dunnett(np.array(intra_variance_dict['wpli2']), np.array(intra_variance_dict['ciplv']), np.array(intra_variance_dict['imcoh']), control=intra_variance_dict['coh'])\n"
   ]
  },
  {
   "cell_type": "code",
   "execution_count": 30,
   "id": "2d5a3c11-e516-45f6-bfae-50c395b2f562",
   "metadata": {},
   "outputs": [
    {
     "data": {
      "text/plain": [
       "DunnettResult(statistic=array([ -6.14165444,  -5.52405446, -11.77966744]), pvalue=array([4.45174342e-09, 1.68397960e-07, 0.00000000e+00]))"
      ]
     },
     "execution_count": 30,
     "metadata": {},
     "output_type": "execute_result"
    }
   ],
   "source": [
    "#post-hoc 2\n",
    "stats.dunnett(np.array(intra_variance_dict['coh']), np.array(intra_variance_dict['wpli2']), np.array(intra_variance_dict['imcoh']), control=intra_variance_dict['ciplv'])\n"
   ]
  },
  {
   "cell_type": "code",
   "execution_count": 31,
   "id": "344287a2-0ebc-447c-bde9-00b53e3dd01b",
   "metadata": {},
   "outputs": [
    {
     "data": {
      "text/plain": [
       "DunnettResult(statistic=array([ 5.638013  , 11.77966744,  6.25561298]), pvalue=array([7.93634751e-08, 0.00000000e+00, 2.47917142e-09]))"
      ]
     },
     "execution_count": 31,
     "metadata": {},
     "output_type": "execute_result"
    }
   ],
   "source": [
    "#post-hoc 3\n",
    "stats.dunnett(np.array(intra_variance_dict['coh']), np.array(intra_variance_dict['ciplv']), np.array(intra_variance_dict['wpli2']), control=intra_variance_dict['imcoh'])\n"
   ]
  },
  {
   "cell_type": "code",
   "execution_count": 28,
   "id": "e58a8640-e78f-4cb1-98b5-9aaaff36aba1",
   "metadata": {},
   "outputs": [
    {
     "data": {
      "text/plain": [
       "DunnettResult(statistic=array([-0.61759998,  5.52405446, -6.25561298]), pvalue=array([8.70797445e-01, 1.45767620e-07, 1.86393179e-09]))"
      ]
     },
     "execution_count": 28,
     "metadata": {},
     "output_type": "execute_result"
    }
   ],
   "source": [
    "#post-hoc 4\n",
    "stats.dunnett(np.array(intra_variance_dict['coh']), np.array(intra_variance_dict['ciplv']), np.array(intra_variance_dict['imcoh']), control=intra_variance_dict['wpli2'])"
   ]
  },
  {
   "cell_type": "code",
   "execution_count": 32,
   "id": "e9b4fb5c-93e5-4a2a-ba4d-8b35c3d3ed91",
   "metadata": {},
   "outputs": [
    {
     "name": "stderr",
     "output_type": "stream",
     "text": [
      "/var/folders/cl/8cj5mvt51nbchvsgng871t400000gn/T/ipykernel_1469/134838794.py:2: UserWarning: \n",
      "\n",
      "`distplot` is a deprecated function and will be removed in seaborn v0.14.0.\n",
      "\n",
      "Please adapt your code to use either `displot` (a figure-level function with\n",
      "similar flexibility) or `kdeplot` (an axes-level function for kernel density plots).\n",
      "\n",
      "For a guide to updating your code to use the new functions, please see\n",
      "https://gist.github.com/mwaskom/de44147ed2974457ad6372750bbe5751\n",
      "\n",
      "  sns.distplot(inter_variance_dict['coh'], hist=False, label='coh')\n",
      "/Library/Frameworks/Python.framework/Versions/3.11/lib/python3.11/site-packages/seaborn/_oldcore.py:1119: FutureWarning: use_inf_as_na option is deprecated and will be removed in a future version. Convert inf values to NaN before operating instead.\n",
      "  with pd.option_context('mode.use_inf_as_na', True):\n",
      "/var/folders/cl/8cj5mvt51nbchvsgng871t400000gn/T/ipykernel_1469/134838794.py:3: UserWarning: \n",
      "\n",
      "`distplot` is a deprecated function and will be removed in seaborn v0.14.0.\n",
      "\n",
      "Please adapt your code to use either `displot` (a figure-level function with\n",
      "similar flexibility) or `kdeplot` (an axes-level function for kernel density plots).\n",
      "\n",
      "For a guide to updating your code to use the new functions, please see\n",
      "https://gist.github.com/mwaskom/de44147ed2974457ad6372750bbe5751\n",
      "\n",
      "  sns.distplot(inter_variance_dict['ciplv'], hist=False, label='ciplv')\n",
      "/Library/Frameworks/Python.framework/Versions/3.11/lib/python3.11/site-packages/seaborn/_oldcore.py:1119: FutureWarning: use_inf_as_na option is deprecated and will be removed in a future version. Convert inf values to NaN before operating instead.\n",
      "  with pd.option_context('mode.use_inf_as_na', True):\n",
      "/var/folders/cl/8cj5mvt51nbchvsgng871t400000gn/T/ipykernel_1469/134838794.py:4: UserWarning: \n",
      "\n",
      "`distplot` is a deprecated function and will be removed in seaborn v0.14.0.\n",
      "\n",
      "Please adapt your code to use either `displot` (a figure-level function with\n",
      "similar flexibility) or `kdeplot` (an axes-level function for kernel density plots).\n",
      "\n",
      "For a guide to updating your code to use the new functions, please see\n",
      "https://gist.github.com/mwaskom/de44147ed2974457ad6372750bbe5751\n",
      "\n",
      "  sns.distplot(inter_variance_dict['imcoh'], hist=False, label='imcoh')\n",
      "/Library/Frameworks/Python.framework/Versions/3.11/lib/python3.11/site-packages/seaborn/_oldcore.py:1119: FutureWarning: use_inf_as_na option is deprecated and will be removed in a future version. Convert inf values to NaN before operating instead.\n",
      "  with pd.option_context('mode.use_inf_as_na', True):\n",
      "/var/folders/cl/8cj5mvt51nbchvsgng871t400000gn/T/ipykernel_1469/134838794.py:5: UserWarning: \n",
      "\n",
      "`distplot` is a deprecated function and will be removed in seaborn v0.14.0.\n",
      "\n",
      "Please adapt your code to use either `displot` (a figure-level function with\n",
      "similar flexibility) or `kdeplot` (an axes-level function for kernel density plots).\n",
      "\n",
      "For a guide to updating your code to use the new functions, please see\n",
      "https://gist.github.com/mwaskom/de44147ed2974457ad6372750bbe5751\n",
      "\n",
      "  sns.distplot(inter_variance_dict['wpli2'], hist=False, label='wpli2')\n",
      "/Library/Frameworks/Python.framework/Versions/3.11/lib/python3.11/site-packages/seaborn/_oldcore.py:1119: FutureWarning: use_inf_as_na option is deprecated and will be removed in a future version. Convert inf values to NaN before operating instead.\n",
      "  with pd.option_context('mode.use_inf_as_na', True):\n"
     ]
    },
    {
     "data": {
      "text/plain": [
       "<matplotlib.legend.Legend at 0x2b1294710>"
      ]
     },
     "execution_count": 32,
     "metadata": {},
     "output_type": "execute_result"
    },
    {
     "data": {
      "image/png": "[encoded data removed]",
      "text/plain": [
       "<Figure size 640x480 with 1 Axes>"
      ]
     },
     "metadata": {},
     "output_type": "display_data"
    }
   ],
   "source": [
    "#visualize inter variances across methods\n",
    "sns.distplot(inter_variance_dict['coh'], hist=False, label='coh')\n",
    "sns.distplot(inter_variance_dict['ciplv'], hist=False, label='ciplv')\n",
    "sns.distplot(inter_variance_dict['imcoh'], hist=False, label='imcoh')\n",
    "sns.distplot(inter_variance_dict['wpli2'], hist=False, label='wpli2')\n",
    "plt.legend()"
   ]
  },
  {
   "cell_type": "code",
   "execution_count": 8,
   "id": "1ea514f0-23f8-44f4-b091-7b16485f55cc",
   "metadata": {},
   "outputs": [
    {
     "name": "stderr",
     "output_type": "stream",
     "text": [
      "/var/folders/cl/8cj5mvt51nbchvsgng871t400000gn/T/ipykernel_1469/1043368866.py:2: UserWarning: \n",
      "\n",
      "`distplot` is a deprecated function and will be removed in seaborn v0.14.0.\n",
      "\n",
      "Please adapt your code to use either `displot` (a figure-level function with\n",
      "similar flexibility) or `kdeplot` (an axes-level function for kernel density plots).\n",
      "\n",
      "For a guide to updating your code to use the new functions, please see\n",
      "https://gist.github.com/mwaskom/de44147ed2974457ad6372750bbe5751\n",
      "\n",
      "  sns.distplot(intra_variance_dict['coh'], hist=False, label='coh')\n",
      "/Library/Frameworks/Python.framework/Versions/3.11/lib/python3.11/site-packages/seaborn/_oldcore.py:1119: FutureWarning: use_inf_as_na option is deprecated and will be removed in a future version. Convert inf values to NaN before operating instead.\n",
      "  with pd.option_context('mode.use_inf_as_na', True):\n",
      "/var/folders/cl/8cj5mvt51nbchvsgng871t400000gn/T/ipykernel_1469/1043368866.py:3: UserWarning: \n",
      "\n",
      "`distplot` is a deprecated function and will be removed in seaborn v0.14.0.\n",
      "\n",
      "Please adapt your code to use either `displot` (a figure-level function with\n",
      "similar flexibility) or `kdeplot` (an axes-level function for kernel density plots).\n",
      "\n",
      "For a guide to updating your code to use the new functions, please see\n",
      "https://gist.github.com/mwaskom/de44147ed2974457ad6372750bbe5751\n",
      "\n",
      "  sns.distplot(intra_variance_dict['ciplv'], hist=False, label='ciplv')\n",
      "/Library/Frameworks/Python.framework/Versions/3.11/lib/python3.11/site-packages/seaborn/_oldcore.py:1119: FutureWarning: use_inf_as_na option is deprecated and will be removed in a future version. Convert inf values to NaN before operating instead.\n",
      "  with pd.option_context('mode.use_inf_as_na', True):\n",
      "/var/folders/cl/8cj5mvt51nbchvsgng871t400000gn/T/ipykernel_1469/1043368866.py:4: UserWarning: \n",
      "\n",
      "`distplot` is a deprecated function and will be removed in seaborn v0.14.0.\n",
      "\n",
      "Please adapt your code to use either `displot` (a figure-level function with\n",
      "similar flexibility) or `kdeplot` (an axes-level function for kernel density plots).\n",
      "\n",
      "For a guide to updating your code to use the new functions, please see\n",
      "https://gist.github.com/mwaskom/de44147ed2974457ad6372750bbe5751\n",
      "\n",
      "  sns.distplot(intra_variance_dict['imcoh'], hist=False, label='imcoh')\n",
      "/Library/Frameworks/Python.framework/Versions/3.11/lib/python3.11/site-packages/seaborn/_oldcore.py:1119: FutureWarning: use_inf_as_na option is deprecated and will be removed in a future version. Convert inf values to NaN before operating instead.\n",
      "  with pd.option_context('mode.use_inf_as_na', True):\n",
      "/var/folders/cl/8cj5mvt51nbchvsgng871t400000gn/T/ipykernel_1469/1043368866.py:5: UserWarning: \n",
      "\n",
      "`distplot` is a deprecated function and will be removed in seaborn v0.14.0.\n",
      "\n",
      "Please adapt your code to use either `displot` (a figure-level function with\n",
      "similar flexibility) or `kdeplot` (an axes-level function for kernel density plots).\n",
      "\n",
      "For a guide to updating your code to use the new functions, please see\n",
      "https://gist.github.com/mwaskom/de44147ed2974457ad6372750bbe5751\n",
      "\n",
      "  sns.distplot(intra_variance_dict['wpli2'], hist=False, label='wpli2')\n",
      "/Library/Frameworks/Python.framework/Versions/3.11/lib/python3.11/site-packages/seaborn/_oldcore.py:1119: FutureWarning: use_inf_as_na option is deprecated and will be removed in a future version. Convert inf values to NaN before operating instead.\n",
      "  with pd.option_context('mode.use_inf_as_na', True):\n"
     ]
    },
    {
     "data": {
      "text/plain": [
       "<matplotlib.legend.Legend at 0x2ae3f4710>"
      ]
     },
     "execution_count": 8,
     "metadata": {},
     "output_type": "execute_result"
    },
    {
     "data": {
      "image/png": "[encoded data removed]",
      "text/plain": [
       "<Figure size 640x480 with 1 Axes>"
      ]
     },
     "metadata": {},
     "output_type": "display_data"
    }
   ],
   "source": [
    "#visualize intra variances across methods\n",
    "sns.distplot(intra_variance_dict['coh'], hist=False, label='coh')\n",
    "sns.distplot(intra_variance_dict['ciplv'], hist=False, label='ciplv')\n",
    "sns.distplot(intra_variance_dict['imcoh'], hist=False, label='imcoh')\n",
    "sns.distplot(intra_variance_dict['wpli2'], hist=False, label='wpli2')\n",
    "plt.legend()"
   ]
  },
  {
   "cell_type": "code",
   "execution_count": null,
   "id": "9e9bc928-db39-4437-8f3d-89086df8b1f8",
   "metadata": {},
   "outputs": [],
   "source": []
  }
 ],
 "metadata": {
  "kernelspec": {
   "display_name": "Python 3 (ipykernel)",
   "language": "python",
   "name": "python3"
  },
  "language_info": {
   "codemirror_mode": {
    "name": "ipython",
    "version": 3
   },
   "file_extension": ".py",
   "mimetype": "text/x-python",
   "name": "python",
   "nbconvert_exporter": "python",
   "pygments_lexer": "ipython3",
   "version": "3.11.5"
  }
 },
 "nbformat": 4,
 "nbformat_minor": 5
}
